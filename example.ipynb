{
 "cells": [
  {
   "cell_type": "markdown",
   "id": "11a846f1-38ca-44c4-96ea-8242e63a8cdd",
   "metadata": {},
   "source": [
    "# Load functions"
   ]
  },
  {
   "cell_type": "code",
   "execution_count": 1,
   "id": "73f5e4ed-6057-4c54-aba4-1dbdd4e388c3",
   "metadata": {
    "tags": []
   },
   "outputs": [
    {
     "name": "stdout",
     "output_type": "stream",
     "text": [
      "Using device: cuda\n",
      "GPU: NVIDIA A100-SXM4-40GB\n",
      "Number of GPUs: 16\n"
     ]
    }
   ],
   "source": [
    "import os\n",
    "import sys\n",
    "import warnings\n",
    "warnings.filterwarnings('ignore')\n",
    "import pandas as pd\n",
    "import numpy as np\n",
    "import torch\n",
    "from pathlib import Path\n",
    "from tqdm.auto import tqdm\n",
    "from transformers import EsmModel, EsmTokenizer\n",
    "from rdkit import RDLogger\n",
    "\n",
    "# Add the parent directory to the Python path\n",
    "sys.path.append(os.path.dirname(os.path.dirname(os.path.abspath(''))))\n",
    "\n",
    "# Set device\n",
    "device = torch.device('cuda' if torch.cuda.is_available() else 'cpu') # set cuda:0 OR cuda:1 to change the GPU\n",
    "print(f\"Using device: {device}\")\n",
    "if torch.cuda.is_available():\n",
    "    print(f\"GPU: {torch.cuda.get_device_name(0)}\")\n",
    "    print(f\"Number of GPUs: {torch.cuda.device_count()}\")\n",
    "\n",
    "# Import \n",
    "from gnn_dta_mtl import (\n",
    "    MTL_DTAModel,\n",
    "    DTAPredictor,\n",
    "    predict_affinity,\n",
    ")\n",
    "\n",
    "# Disable RDKit warnings\n",
    "RDLogger.DisableLog('rdApp.*')\n",
    "\n",
    "# Set random seeds for reproducibility\n",
    "SEED = 42\n",
    "np.random.seed(SEED)\n",
    "torch.manual_seed(SEED)\n",
    "if torch.cuda.is_available():\n",
    "    torch.cuda.manual_seed_all(SEED)"
   ]
  },
  {
   "cell_type": "markdown",
   "id": "2df31d8e-4c38-4057-b6e6-c22fedb586c9",
   "metadata": {},
   "source": [
    "# Load models"
   ]
  },
  {
   "cell_type": "code",
   "execution_count": 2,
   "id": "f476600a-a42c-41e1-ac7f-54ff7dc5c851",
   "metadata": {
    "scrolled": true,
    "tags": []
   },
   "outputs": [
    {
     "name": "stdout",
     "output_type": "stream",
     "text": [
      "Loading ESM model...\n"
     ]
    },
    {
     "name": "stderr",
     "output_type": "stream",
     "text": [
      "Some weights of EsmModel were not initialized from the model checkpoint at facebook/esm2_t33_650M_UR50D and are newly initialized: ['esm.pooler.dense.bias', 'esm.pooler.dense.weight']\n",
      "You should probably TRAIN this model on a down-stream task to be able to use it for predictions and inference.\n"
     ]
    },
    {
     "name": "stdout",
     "output_type": "stream",
     "text": [
      "✓ ESM model loaded\n",
      "Loading APEX model...\n",
      "✓ Model loaded from ./models/best_model.pt\n",
      "✓ Using device: cuda\n",
      "✓ APEX model loaded\n"
     ]
    }
   ],
   "source": [
    "print(\"Loading ESM model...\")\n",
    "model_name = \"facebook/esm2_t33_650M_UR50D\"\n",
    "model_checkpoint = './models/best_model.pt'\n",
    "device='cuda'\n",
    "tokenizer = EsmTokenizer.from_pretrained(model_name)\n",
    "esm_model = EsmModel.from_pretrained(model_name)\n",
    "esm_model.eval()\n",
    "if torch.cuda.is_available():\n",
    "    esm_model = esm_model.cuda()\n",
    "print(\"✓ ESM model loaded\")\n",
    "\n",
    "print(\"Loading APEX model...\")\n",
    "# Default config\n",
    "config = {\n",
    "    'task_cols': ['pKi', 'pEC50', 'pKd', 'pIC50', 'pKd (Wang, FEP)', 'potency'],\n",
    "    'model_config': {\n",
    "        'prot_emb_dim': 1280,\n",
    "        'prot_gcn_dims': [128, 256, 256],\n",
    "        'prot_fc_dims': [1024, 128],\n",
    "        'drug_node_in_dim': [66, 1],\n",
    "        'drug_node_h_dims': [128, 64],\n",
    "        'drug_edge_in_dim': [16, 1],\n",
    "        'drug_edge_h_dims': [32, 1],\n",
    "        'drug_fc_dims': [1024, 128],\n",
    "        'mlp_dims': [1024, 512],\n",
    "        'mlp_dropout': 0.25\n",
    "    }\n",
    "}\n",
    "# Load model\n",
    "model = MTL_DTAModel(\n",
    "    task_names=config['task_cols'],\n",
    "    **config['model_config']\n",
    ").to(device)\n",
    "predictor = DTAPredictor(model, model_checkpoint, device=device, esm_model=esm_model)\n",
    "print(\"✓ APEX model loaded\")"
   ]
  },
  {
   "cell_type": "markdown",
   "id": "d77e6bd0-a333-48c4-9d2b-9cb9166a8007",
   "metadata": {},
   "source": [
    "# Data (change with your data)"
   ]
  },
  {
   "cell_type": "code",
   "execution_count": 10,
   "id": "6bfcec86-cf22-437a-b81d-4aa6719a71af",
   "metadata": {
    "tags": []
   },
   "outputs": [
    {
     "data": {
      "text/plain": [
       "[('./test/245158.pdb', ' ./test/245158.sdf'),\n",
       " ('./test/279794.pdb', ' ./test/279794.sdf'),\n",
       " ('./test/203418.pdb', ' ./test/203418.sdf'),\n",
       " ('./test/48008.pdb', ' ./test/48008.sdf'),\n",
       " ('./test/434516.pdb', ' ./test/434516.sdf'),\n",
       " ('./test/3705.pdb', ' ./test/3705.sdf'),\n",
       " ('./test/323023.pdb', ' ./test/323023.sdf'),\n",
       " ('./test/251630.pdb', ' ./test/251630.sdf'),\n",
       " ('./test/472746.pdb', ' ./test/472746.sdf'),\n",
       " ('./test/24704.pdb', ' ./test/24704.sdf')]"
      ]
     },
     "execution_count": 10,
     "metadata": {},
     "output_type": "execute_result"
    }
   ],
   "source": [
    "# Your test complexes\n",
    "test_complexes = [\n",
    "    ('./test/245158.pdb', './test/245158.sdf'),\n",
    "    ('./test/279794.pdb', './test/279794.sdf'),\n",
    "    ('./test/203418.pdb', './test/203418.sdf'),\n",
    "    ('./test/48008.pdb', './test/48008.sdf'),\n",
    "    ('./test/434516.pdb', './test/434516.sdf'),\n",
    "    ('./test/3705.pdb', './test/3705.sdf'),\n",
    "    ('./test/323023.pdb', './test/323023.sdf'),\n",
    "    ('./test/251630.pdb', './test/251630.sdf'),\n",
    "    ('./test/472746.pdb', './test/472746.sdf'),\n",
    "    ('./test/24704.pdb', './test/24704.sdf')\n",
    "]\n",
    "\n",
    "# OR from a .csv or .parquet file as below. Should be a csv with col target and col ligand\n",
    "# test_complexes = list(pd.read_csv('./input/examples.csv')[['target', 'ligand']].itertuples(index=False, name=None))\n"
   ]
  },
  {
   "cell_type": "markdown",
   "id": "4f596f54-86bc-4444-af69-639e1192a751",
   "metadata": {},
   "source": [
    "# Inference"
   ]
  },
  {
   "cell_type": "code",
   "execution_count": 4,
   "id": "f7f9f96a-b235-4afc-a092-7c71fdba193b",
   "metadata": {},
   "outputs": [
    {
     "name": "stdout",
     "output_type": "stream",
     "text": [
      "Featurizing all protein-ligand pairs...\n"
     ]
    },
    {
     "name": "stderr",
     "output_type": "stream",
     "text": [
      "Featurizing: 100%|██████████| 10/10 [00:02<00:00,  3.92it/s]\n"
     ]
    },
    {
     "name": "stdout",
     "output_type": "stream",
     "text": [
      "Running batch prediction...\n",
      "Predictions saved to affinity_predictions.csv\n"
     ]
    }
   ],
   "source": [
    "# Get predictions with real ESM embeddings\n",
    "predictions = predict_affinity(\n",
    "    protein_ligand_pairs=test_complexes,\n",
    "    output_path='./predictions/affinity_predictions.csv',\n",
    "    device=device,\n",
    "    predictor=predictor,\n",
    "    esm_model=esm_model,  \n",
    "    fast=False # True if >1000 complex for scaling\n",
    ")"
   ]
  },
  {
   "cell_type": "code",
   "execution_count": 5,
   "id": "16a5395a-69ce-487f-82f3-a88fcfdaa2c7",
   "metadata": {},
   "outputs": [
    {
     "data": {
      "text/html": [
       "<div>\n",
       "<style scoped>\n",
       "    .dataframe tbody tr th:only-of-type {\n",
       "        vertical-align: middle;\n",
       "    }\n",
       "\n",
       "    .dataframe tbody tr th {\n",
       "        vertical-align: top;\n",
       "    }\n",
       "\n",
       "    .dataframe thead th {\n",
       "        text-align: right;\n",
       "    }\n",
       "</style>\n",
       "<table border=\"1\" class=\"dataframe\">\n",
       "  <thead>\n",
       "    <tr style=\"text-align: right;\">\n",
       "      <th></th>\n",
       "      <th>protein_path</th>\n",
       "      <th>ligand_path</th>\n",
       "      <th>pKi</th>\n",
       "      <th>pEC50</th>\n",
       "      <th>pKd</th>\n",
       "      <th>pIC50</th>\n",
       "      <th>pKd (Wang, FEP)</th>\n",
       "      <th>potency</th>\n",
       "    </tr>\n",
       "  </thead>\n",
       "  <tbody>\n",
       "    <tr>\n",
       "      <th>0</th>\n",
       "      <td>./test/245158.pdb</td>\n",
       "      <td>./test/245158.sdf</td>\n",
       "      <td>7.637315</td>\n",
       "      <td>6.891932</td>\n",
       "      <td>6.341615</td>\n",
       "      <td>6.878548</td>\n",
       "      <td>7.291972</td>\n",
       "      <td>0.053844</td>\n",
       "    </tr>\n",
       "    <tr>\n",
       "      <th>1</th>\n",
       "      <td>./test/279794.pdb</td>\n",
       "      <td>./test/279794.sdf</td>\n",
       "      <td>8.614182</td>\n",
       "      <td>7.789924</td>\n",
       "      <td>8.435829</td>\n",
       "      <td>7.966605</td>\n",
       "      <td>8.197050</td>\n",
       "      <td>0.069151</td>\n",
       "    </tr>\n",
       "    <tr>\n",
       "      <th>2</th>\n",
       "      <td>./test/203418.pdb</td>\n",
       "      <td>./test/203418.sdf</td>\n",
       "      <td>8.009085</td>\n",
       "      <td>6.813055</td>\n",
       "      <td>7.741957</td>\n",
       "      <td>7.765490</td>\n",
       "      <td>7.860967</td>\n",
       "      <td>0.123765</td>\n",
       "    </tr>\n",
       "    <tr>\n",
       "      <th>3</th>\n",
       "      <td>./test/48008.pdb</td>\n",
       "      <td>./test/48008.sdf</td>\n",
       "      <td>8.159952</td>\n",
       "      <td>7.957793</td>\n",
       "      <td>8.316508</td>\n",
       "      <td>7.484304</td>\n",
       "      <td>7.904311</td>\n",
       "      <td>0.013412</td>\n",
       "    </tr>\n",
       "    <tr>\n",
       "      <th>4</th>\n",
       "      <td>./test/434516.pdb</td>\n",
       "      <td>./test/434516.sdf</td>\n",
       "      <td>6.489398</td>\n",
       "      <td>6.419660</td>\n",
       "      <td>6.763867</td>\n",
       "      <td>6.206766</td>\n",
       "      <td>6.378010</td>\n",
       "      <td>0.074012</td>\n",
       "    </tr>\n",
       "    <tr>\n",
       "      <th>5</th>\n",
       "      <td>./test/3705.pdb</td>\n",
       "      <td>./test/3705.sdf</td>\n",
       "      <td>4.400119</td>\n",
       "      <td>3.935280</td>\n",
       "      <td>3.692814</td>\n",
       "      <td>3.779052</td>\n",
       "      <td>3.783771</td>\n",
       "      <td>0.096013</td>\n",
       "    </tr>\n",
       "    <tr>\n",
       "      <th>6</th>\n",
       "      <td>./test/323023.pdb</td>\n",
       "      <td>./test/323023.sdf</td>\n",
       "      <td>7.812621</td>\n",
       "      <td>7.259854</td>\n",
       "      <td>7.734333</td>\n",
       "      <td>7.102062</td>\n",
       "      <td>7.284111</td>\n",
       "      <td>0.022825</td>\n",
       "    </tr>\n",
       "    <tr>\n",
       "      <th>7</th>\n",
       "      <td>./test/251630.pdb</td>\n",
       "      <td>./test/251630.sdf</td>\n",
       "      <td>7.984521</td>\n",
       "      <td>7.570292</td>\n",
       "      <td>7.843274</td>\n",
       "      <td>7.310745</td>\n",
       "      <td>7.629936</td>\n",
       "      <td>0.032966</td>\n",
       "    </tr>\n",
       "    <tr>\n",
       "      <th>8</th>\n",
       "      <td>./test/472746.pdb</td>\n",
       "      <td>./test/472746.sdf</td>\n",
       "      <td>4.777402</td>\n",
       "      <td>4.560880</td>\n",
       "      <td>3.996355</td>\n",
       "      <td>4.426298</td>\n",
       "      <td>4.796299</td>\n",
       "      <td>0.189638</td>\n",
       "    </tr>\n",
       "    <tr>\n",
       "      <th>9</th>\n",
       "      <td>./test/24704.pdb</td>\n",
       "      <td>./test/24704.sdf</td>\n",
       "      <td>7.860795</td>\n",
       "      <td>7.160041</td>\n",
       "      <td>7.636954</td>\n",
       "      <td>7.765124</td>\n",
       "      <td>7.649010</td>\n",
       "      <td>0.021086</td>\n",
       "    </tr>\n",
       "  </tbody>\n",
       "</table>\n",
       "</div>"
      ],
      "text/plain": [
       "        protein_path        ligand_path       pKi     pEC50       pKd  \\\n",
       "0  ./test/245158.pdb  ./test/245158.sdf  7.637315  6.891932  6.341615   \n",
       "1  ./test/279794.pdb  ./test/279794.sdf  8.614182  7.789924  8.435829   \n",
       "2  ./test/203418.pdb  ./test/203418.sdf  8.009085  6.813055  7.741957   \n",
       "3   ./test/48008.pdb   ./test/48008.sdf  8.159952  7.957793  8.316508   \n",
       "4  ./test/434516.pdb  ./test/434516.sdf  6.489398  6.419660  6.763867   \n",
       "5    ./test/3705.pdb    ./test/3705.sdf  4.400119  3.935280  3.692814   \n",
       "6  ./test/323023.pdb  ./test/323023.sdf  7.812621  7.259854  7.734333   \n",
       "7  ./test/251630.pdb  ./test/251630.sdf  7.984521  7.570292  7.843274   \n",
       "8  ./test/472746.pdb  ./test/472746.sdf  4.777402  4.560880  3.996355   \n",
       "9   ./test/24704.pdb   ./test/24704.sdf  7.860795  7.160041  7.636954   \n",
       "\n",
       "      pIC50  pKd (Wang, FEP)   potency  \n",
       "0  6.878548         7.291972  0.053844  \n",
       "1  7.966605         8.197050  0.069151  \n",
       "2  7.765490         7.860967  0.123765  \n",
       "3  7.484304         7.904311  0.013412  \n",
       "4  6.206766         6.378010  0.074012  \n",
       "5  3.779052         3.783771  0.096013  \n",
       "6  7.102062         7.284111  0.022825  \n",
       "7  7.310745         7.629936  0.032966  \n",
       "8  4.426298         4.796299  0.189638  \n",
       "9  7.765124         7.649010  0.021086  "
      ]
     },
     "execution_count": 5,
     "metadata": {},
     "output_type": "execute_result"
    }
   ],
   "source": [
    "# Ignore the potency task, it is a futur head that will be covered once SAIR is integreted.\n",
    "predictions"
   ]
  },
  {
   "cell_type": "code",
   "execution_count": null,
   "id": "d871ec65-4343-4153-ad03-c332bcc4c020",
   "metadata": {},
   "outputs": [],
   "source": []
  },
  {
   "cell_type": "code",
   "execution_count": null,
   "id": "4729d5c1-3de3-4d9a-8995-abad8b3f6cce",
   "metadata": {},
   "outputs": [],
   "source": []
  },
  {
   "cell_type": "code",
   "execution_count": null,
   "id": "08d5061f-dc60-4d7e-871d-495c0c3b90b7",
   "metadata": {},
   "outputs": [],
   "source": []
  }
 ],
 "metadata": {
  "environment": {
   "kernel": "bioml",
   "name": "workbench-notebooks.m130",
   "type": "gcloud",
   "uri": "us-docker.pkg.dev/deeplearning-platform-release/gcr.io/workbench-notebooks:m130"
  },
  "kernelspec": {
   "display_name": "BioML (Python 3.10)",
   "language": "python",
   "name": "bioml"
  },
  "language_info": {
   "codemirror_mode": {
    "name": "ipython",
    "version": 3
   },
   "file_extension": ".py",
   "mimetype": "text/x-python",
   "name": "python",
   "nbconvert_exporter": "python",
   "pygments_lexer": "ipython3",
   "version": "3.10.18"
  }
 },
 "nbformat": 4,
 "nbformat_minor": 5
}
