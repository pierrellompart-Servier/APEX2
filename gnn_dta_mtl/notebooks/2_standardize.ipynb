{
 "cells": [
  {
   "cell_type": "markdown",
   "id": "28fb0471-9f1d-43b1-b34b-80a97fa3117d",
   "metadata": {},
   "source": [
    "# 1 : Imports and Setup"
   ]
  },
  {
   "cell_type": "code",
   "execution_count": 1,
   "id": "a1d080ec-1a0e-401e-aebe-6caf25bdd12d",
   "metadata": {
    "tags": []
   },
   "outputs": [
    {
     "name": "stdout",
     "output_type": "stream",
     "text": [
      "Using device: cuda\n",
      "GPU: NVIDIA A100-SXM4-40GB\n",
      "Number of GPUs: 16\n"
     ]
    }
   ],
   "source": [
    "import os\n",
    "import sys\n",
    "import json\n",
    "import gc\n",
    "import warnings\n",
    "warnings.filterwarnings('ignore')\n",
    "\n",
    "import pandas as pd\n",
    "import numpy as np\n",
    "import torch\n",
    "import torch_geometric\n",
    "from pathlib import Path\n",
    "from sklearn.model_selection import KFold, train_test_split\n",
    "from tqdm.auto import tqdm\n",
    "import matplotlib.pyplot as plt\n",
    "import seaborn as sns\n",
    "\n",
    "# Add the parent directory to the Python path\n",
    "# This allows importing the gnn_dta_mtl package\n",
    "sys.path.append(os.path.dirname(os.path.dirname(os.path.abspath(''))))\n",
    "\n",
    "# Set device\n",
    "device = torch.device('cuda' if torch.cuda.is_available() else 'cpu')\n",
    "print(f\"Using device: {device}\")\n",
    "if torch.cuda.is_available():\n",
    "    print(f\"GPU: {torch.cuda.get_device_name(0)}\")\n",
    "    print(f\"Number of GPUs: {torch.cuda.device_count()}\")\n",
    "\n",
    "# Import your package - use absolute import instead of relative\n",
    "from gnn_dta_mtl import (\n",
    "    MTL_DTAModel, DTAModel,\n",
    "    MTL_DTA, DTA,\n",
    "    CrossValidator, MTLTrainer,\n",
    "    StructureStandardizer, StructureProcessor, StructureChunkLoader,\n",
    "    ESMEmbedder,\n",
    "    add_molecular_properties_parallel,\n",
    "    compute_ligand_efficiency,\n",
    "    compute_mean_ligand_efficiency,\n",
    "    filter_by_properties,\n",
    "    prepare_mtl_experiment,\n",
    "    build_mtl_dataset, build_mtl_dataset_optimized,\n",
    "    evaluate_model,\n",
    "    plot_results, plot_predictions, create_summary_report,\n",
    "    ExperimentLogger,\n",
    "    save_model, save_results, create_output_dir\n",
    ")\n",
    "\n",
    "# Set random seeds for reproducibility\n",
    "SEED = 42\n",
    "np.random.seed(SEED)\n",
    "torch.manual_seed(SEED)\n",
    "if torch.cuda.is_available():\n",
    "    torch.cuda.manual_seed_all(SEED)"
   ]
  },
  {
   "cell_type": "markdown",
   "id": "8a7461eb-15ce-44f7-b6e8-3d508c4942e6",
   "metadata": {},
   "source": [
    "# 2: Configuration\n"
   ]
  },
  {
   "cell_type": "code",
   "execution_count": 2,
   "id": "ca274df4-581f-4a4a-9937-9ab97785079f",
   "metadata": {},
   "outputs": [
    {
     "name": "stdout",
     "output_type": "stream",
     "text": [
      "✓ Created: ../input/combined\n",
      "✓ Created: ../input/chunk\n",
      "✓ Created: ../input/embeddings\n",
      "✓ Created: ../output/protein\n",
      "✓ Created: ../output/ligand\n",
      "✓ Created: ../output/experiments\n",
      "✓ Experiment directory: ../output/experiments/gnn_dta_mtl_experiment_20250929_175416\n",
      "✓ Configuration saved to: ../output/experiments/gnn_dta_mtl_experiment_20250929_175416/config.json\n"
     ]
    }
   ],
   "source": [
    "import os\n",
    "import json\n",
    "from pathlib import Path\n",
    "from datetime import datetime\n",
    "\n",
    "# Create necessary directories first\n",
    "base_dirs = [\n",
    "    '../input/combined',\n",
    "    '../input/chunk',\n",
    "    '../input/embeddings',\n",
    "    '../output/protein',\n",
    "    '../output/ligand',\n",
    "    '../output/experiments',\n",
    "]\n",
    "\n",
    "for dir_path in base_dirs:\n",
    "    Path(dir_path).mkdir(parents=True, exist_ok=True)\n",
    "    print(f\"✓ Created: {dir_path}\")\n",
    "\n",
    "CONFIG = {\n",
    "    # Data paths\n",
    "    'data_path': '../data/curated/combined/df_combined.parquet',\n",
    "    'protein_out_dir': '../output/protein',\n",
    "    'ligand_out_dir': '../output/ligand',\n",
    "    'structure_chunks_dir': '../input/chunk/',\n",
    "    'embeddings_dir': '../input/embeddings/',\n",
    "    'output_dir': '../output/experiments/',\n",
    "    \n",
    "    # Task configuration\n",
    "    'task_cols': ['pKi', 'pEC50', 'pKd (Wang, FEP)', 'pKd', 'pIC50', 'potency'],\n",
    "    \n",
    "    # Model configuration\n",
    "    'model_config': {\n",
    "        'prot_emb_dim': 1280,\n",
    "        'prot_gcn_dims': [128, 256, 256],\n",
    "        'prot_fc_dims': [1024, 128],\n",
    "        'drug_node_in_dim': [66, 1],\n",
    "        'drug_node_h_dims': [128, 64],\n",
    "        'drug_edge_in_dim': [16, 1],\n",
    "        'drug_edge_h_dims': [32, 1],\n",
    "        'drug_fc_dims': [1024, 128],\n",
    "        'mlp_dims': [1024, 512],\n",
    "        'mlp_dropout': 0.25\n",
    "    },\n",
    "    \n",
    "    # Training configuration\n",
    "    'training_config': {\n",
    "        'batch_size': 128,\n",
    "        'n_epochs': 200,\n",
    "        'learning_rate': 0.0005,\n",
    "        'patience': 100,\n",
    "        'n_folds': 3\n",
    "    },\n",
    "    \n",
    "    # Data filtering\n",
    "    'filter_config': {\n",
    "        'min_heavy_atoms': 5,\n",
    "        'max_heavy_atoms': 75,\n",
    "        'max_mw': 1000,\n",
    "        'min_carbons': 4,\n",
    "        'min_le': 0.05,\n",
    "        'max_le_norm': 0.003\n",
    "    },\n",
    "    \n",
    "    # Processing\n",
    "    'n_workers': os.cpu_count() - 1 if os.cpu_count() else 112,\n",
    "    'chunk_size': 50000,\n",
    "    'sample_size': None,  # Set to integer to limit data size for testing\n",
    "    \n",
    "    # ESM model\n",
    "    'esm_model_name': 'facebook/esm2_t33_650M_UR50D'\n",
    "}\n",
    "\n",
    "# Create experiment directory with timestamp\n",
    "experiment_name = 'gnn_dta_mtl_experiment'\n",
    "timestamp = datetime.now().strftime(\"%Y%m%d_%H%M%S\")\n",
    "experiment_dir = Path(CONFIG['output_dir']) / f\"{experiment_name}_{timestamp}\"\n",
    "\n",
    "# Create subdirectories\n",
    "(experiment_dir / 'models').mkdir(parents=True, exist_ok=True)\n",
    "(experiment_dir / 'results').mkdir(parents=True, exist_ok=True)\n",
    "(experiment_dir / 'figures').mkdir(parents=True, exist_ok=True)\n",
    "(experiment_dir / 'logs').mkdir(parents=True, exist_ok=True)\n",
    "\n",
    "CONFIG['experiment_dir'] = str(experiment_dir)\n",
    "\n",
    "# Save configuration\n",
    "config_path = experiment_dir / 'config.json'\n",
    "with open(config_path, 'w') as f:\n",
    "    json.dump(CONFIG, f, indent=2)\n",
    "\n",
    "print(f\"✓ Experiment directory: {CONFIG['experiment_dir']}\")\n",
    "print(f\"✓ Configuration saved to: {config_path}\")"
   ]
  },
  {
   "cell_type": "markdown",
   "id": "b297348e-af92-4c3f-9aaa-7ff5da88057e",
   "metadata": {},
   "source": [
    "# 3 : Load Data"
   ]
  },
  {
   "cell_type": "code",
   "execution_count": 3,
   "id": "cbdf6b92-bd7e-4923-b61d-0a10cbb61228",
   "metadata": {
    "tags": []
   },
   "outputs": [
    {
     "name": "stdout",
     "output_type": "stream",
     "text": [
      "Loading data...\n",
      "Initial data shape: (550663, 14)\n"
     ]
    },
    {
     "data": {
      "text/html": [
       "<style type=\"text/css\">\n",
       "</style>\n",
       "<table id=\"T_49055\">\n",
       "  <thead>\n",
       "    <tr>\n",
       "      <th class=\"blank level0\" >&nbsp;</th>\n",
       "      <th id=\"T_49055_level0_col0\" class=\"col_heading level0 col0\" >protein_pdb_path</th>\n",
       "      <th id=\"T_49055_level0_col1\" class=\"col_heading level0 col1\" >ligand_sdf_path</th>\n",
       "      <th id=\"T_49055_level0_col2\" class=\"col_heading level0 col2\" >smiles</th>\n",
       "      <th id=\"T_49055_level0_col3\" class=\"col_heading level0 col3\" >pKi</th>\n",
       "      <th id=\"T_49055_level0_col4\" class=\"col_heading level0 col4\" >source_file</th>\n",
       "      <th id=\"T_49055_level0_col5\" class=\"col_heading level0 col5\" >is_experimental</th>\n",
       "      <th id=\"T_49055_level0_col6\" class=\"col_heading level0 col6\" >resolution</th>\n",
       "      <th id=\"T_49055_level0_col7\" class=\"col_heading level0 col7\" >pEC50</th>\n",
       "      <th id=\"T_49055_level0_col8\" class=\"col_heading level0 col8\" >pKd (Wang, FEP)</th>\n",
       "      <th id=\"T_49055_level0_col9\" class=\"col_heading level0 col9\" >pKd</th>\n",
       "      <th id=\"T_49055_level0_col10\" class=\"col_heading level0 col10\" >pIC50</th>\n",
       "      <th id=\"T_49055_level0_col11\" class=\"col_heading level0 col11\" >SMILES</th>\n",
       "      <th id=\"T_49055_level0_col12\" class=\"col_heading level0 col12\" >potency</th>\n",
       "      <th id=\"T_49055_level0_col13\" class=\"col_heading level0 col13\" >assay</th>\n",
       "    </tr>\n",
       "  </thead>\n",
       "  <tbody>\n",
       "    <tr>\n",
       "      <th id=\"T_49055_level0_row0\" class=\"row_heading level0 row0\" >0</th>\n",
       "      <td id=\"T_49055_row0_col0\" class=\"data row0 col0\" >../data/raw/BindingNetv2/high/target_CHEMBL3902/CHEMBL60581/protein.pdb</td>\n",
       "      <td id=\"T_49055_row0_col1\" class=\"data row0 col1\" >../data/raw/BindingNetv2/high/target_CHEMBL3902/CHEMBL60581/ligand.sdf</td>\n",
       "      <td id=\"T_49055_row0_col2\" class=\"data row0 col2\" >CCCCCCSCC(NC(=O)CCC(N)C(=O)O)C(=O)NCCC(=O)O</td>\n",
       "      <td id=\"T_49055_row0_col3\" class=\"data row0 col3\" >3.259637</td>\n",
       "      <td id=\"T_49055_row0_col4\" class=\"data row0 col4\" >BindingNetv2</td>\n",
       "      <td id=\"T_49055_row0_col5\" class=\"data row0 col5\" >False</td>\n",
       "      <td id=\"T_49055_row0_col6\" class=\"data row0 col6\" >nan</td>\n",
       "      <td id=\"T_49055_row0_col7\" class=\"data row0 col7\" >nan</td>\n",
       "      <td id=\"T_49055_row0_col8\" class=\"data row0 col8\" >nan</td>\n",
       "      <td id=\"T_49055_row0_col9\" class=\"data row0 col9\" >nan</td>\n",
       "      <td id=\"T_49055_row0_col10\" class=\"data row0 col10\" >nan</td>\n",
       "      <td id=\"T_49055_row0_col11\" class=\"data row0 col11\" >None</td>\n",
       "      <td id=\"T_49055_row0_col12\" class=\"data row0 col12\" >nan</td>\n",
       "      <td id=\"T_49055_row0_col13\" class=\"data row0 col13\" >None</td>\n",
       "    </tr>\n",
       "    <tr>\n",
       "      <th id=\"T_49055_level0_row1\" class=\"row_heading level0 row1\" >1</th>\n",
       "      <td id=\"T_49055_row1_col0\" class=\"data row1 col0\" >../data/raw/BindingNetv2/moderate/target_CHEMBL3902/CHEMBL58951/protein.pdb</td>\n",
       "      <td id=\"T_49055_row1_col1\" class=\"data row1 col1\" >../data/raw/BindingNetv2/moderate/target_CHEMBL3902/CHEMBL58951/ligand.sdf</td>\n",
       "      <td id=\"T_49055_row1_col2\" class=\"data row1 col2\" >NC(CCC(=O)NC(CSCc1ccccc1)C(=O)NC(C(=O)O)c1ccccc1)C(=O)O</td>\n",
       "      <td id=\"T_49055_row1_col3\" class=\"data row1 col3\" >6.376751</td>\n",
       "      <td id=\"T_49055_row1_col4\" class=\"data row1 col4\" >BindingNetv2</td>\n",
       "      <td id=\"T_49055_row1_col5\" class=\"data row1 col5\" >False</td>\n",
       "      <td id=\"T_49055_row1_col6\" class=\"data row1 col6\" >nan</td>\n",
       "      <td id=\"T_49055_row1_col7\" class=\"data row1 col7\" >nan</td>\n",
       "      <td id=\"T_49055_row1_col8\" class=\"data row1 col8\" >nan</td>\n",
       "      <td id=\"T_49055_row1_col9\" class=\"data row1 col9\" >nan</td>\n",
       "      <td id=\"T_49055_row1_col10\" class=\"data row1 col10\" >nan</td>\n",
       "      <td id=\"T_49055_row1_col11\" class=\"data row1 col11\" >None</td>\n",
       "      <td id=\"T_49055_row1_col12\" class=\"data row1 col12\" >nan</td>\n",
       "      <td id=\"T_49055_row1_col13\" class=\"data row1 col13\" >None</td>\n",
       "    </tr>\n",
       "    <tr>\n",
       "      <th id=\"T_49055_level0_row2\" class=\"row_heading level0 row2\" >2</th>\n",
       "      <td id=\"T_49055_row2_col0\" class=\"data row2 col0\" >../data/raw/BindingNetv2/high/target_CHEMBL3902/CHEMBL301229/protein.pdb</td>\n",
       "      <td id=\"T_49055_row2_col1\" class=\"data row2 col1\" >../data/raw/BindingNetv2/high/target_CHEMBL3902/CHEMBL301229/ligand.sdf</td>\n",
       "      <td id=\"T_49055_row2_col2\" class=\"data row2 col2\" >Cc1ccc(CSCC(NC(=O)CCC(N)C(=O)O)C(=O)NCCC(=O)O)cc1</td>\n",
       "      <td id=\"T_49055_row2_col3\" class=\"data row2 col3\" >4.397940</td>\n",
       "      <td id=\"T_49055_row2_col4\" class=\"data row2 col4\" >BindingNetv2</td>\n",
       "      <td id=\"T_49055_row2_col5\" class=\"data row2 col5\" >False</td>\n",
       "      <td id=\"T_49055_row2_col6\" class=\"data row2 col6\" >nan</td>\n",
       "      <td id=\"T_49055_row2_col7\" class=\"data row2 col7\" >nan</td>\n",
       "      <td id=\"T_49055_row2_col8\" class=\"data row2 col8\" >nan</td>\n",
       "      <td id=\"T_49055_row2_col9\" class=\"data row2 col9\" >nan</td>\n",
       "      <td id=\"T_49055_row2_col10\" class=\"data row2 col10\" >nan</td>\n",
       "      <td id=\"T_49055_row2_col11\" class=\"data row2 col11\" >None</td>\n",
       "      <td id=\"T_49055_row2_col12\" class=\"data row2 col12\" >nan</td>\n",
       "      <td id=\"T_49055_row2_col13\" class=\"data row2 col13\" >None</td>\n",
       "    </tr>\n",
       "    <tr>\n",
       "      <th id=\"T_49055_level0_row3\" class=\"row_heading level0 row3\" >3</th>\n",
       "      <td id=\"T_49055_row3_col0\" class=\"data row3 col0\" >../data/raw/BindingNetv2/high/target_CHEMBL3902/CHEMBL442360/protein.pdb</td>\n",
       "      <td id=\"T_49055_row3_col1\" class=\"data row3 col1\" >../data/raw/BindingNetv2/high/target_CHEMBL3902/CHEMBL442360/ligand.sdf</td>\n",
       "      <td id=\"T_49055_row3_col2\" class=\"data row3 col2\" >NC(CCC(=O)NC(CSCc1ccc(Cl)cc1)C(=O)NC(C(=O)O)c1ccccc1)C(=O)O</td>\n",
       "      <td id=\"T_49055_row3_col3\" class=\"data row3 col3\" >6.920819</td>\n",
       "      <td id=\"T_49055_row3_col4\" class=\"data row3 col4\" >BindingNetv2</td>\n",
       "      <td id=\"T_49055_row3_col5\" class=\"data row3 col5\" >False</td>\n",
       "      <td id=\"T_49055_row3_col6\" class=\"data row3 col6\" >nan</td>\n",
       "      <td id=\"T_49055_row3_col7\" class=\"data row3 col7\" >nan</td>\n",
       "      <td id=\"T_49055_row3_col8\" class=\"data row3 col8\" >nan</td>\n",
       "      <td id=\"T_49055_row3_col9\" class=\"data row3 col9\" >nan</td>\n",
       "      <td id=\"T_49055_row3_col10\" class=\"data row3 col10\" >nan</td>\n",
       "      <td id=\"T_49055_row3_col11\" class=\"data row3 col11\" >None</td>\n",
       "      <td id=\"T_49055_row3_col12\" class=\"data row3 col12\" >nan</td>\n",
       "      <td id=\"T_49055_row3_col13\" class=\"data row3 col13\" >None</td>\n",
       "    </tr>\n",
       "    <tr>\n",
       "      <th id=\"T_49055_level0_row4\" class=\"row_heading level0 row4\" >4</th>\n",
       "      <td id=\"T_49055_row4_col0\" class=\"data row4 col0\" >../data/raw/BindingNetv2/high/target_CHEMBL3902/CHEMBL58451/protein.pdb</td>\n",
       "      <td id=\"T_49055_row4_col1\" class=\"data row4 col1\" >../data/raw/BindingNetv2/high/target_CHEMBL3902/CHEMBL58451/ligand.sdf</td>\n",
       "      <td id=\"T_49055_row4_col2\" class=\"data row4 col2\" >NC(CCC(=O)NC(CSCc1ccccc1)C(=O)NCCC(=O)O)C(=O)O</td>\n",
       "      <td id=\"T_49055_row4_col3\" class=\"data row4 col3\" >3.148742</td>\n",
       "      <td id=\"T_49055_row4_col4\" class=\"data row4 col4\" >BindingNetv2</td>\n",
       "      <td id=\"T_49055_row4_col5\" class=\"data row4 col5\" >False</td>\n",
       "      <td id=\"T_49055_row4_col6\" class=\"data row4 col6\" >nan</td>\n",
       "      <td id=\"T_49055_row4_col7\" class=\"data row4 col7\" >nan</td>\n",
       "      <td id=\"T_49055_row4_col8\" class=\"data row4 col8\" >nan</td>\n",
       "      <td id=\"T_49055_row4_col9\" class=\"data row4 col9\" >nan</td>\n",
       "      <td id=\"T_49055_row4_col10\" class=\"data row4 col10\" >nan</td>\n",
       "      <td id=\"T_49055_row4_col11\" class=\"data row4 col11\" >None</td>\n",
       "      <td id=\"T_49055_row4_col12\" class=\"data row4 col12\" >nan</td>\n",
       "      <td id=\"T_49055_row4_col13\" class=\"data row4 col13\" >None</td>\n",
       "    </tr>\n",
       "  </tbody>\n",
       "</table>\n"
      ],
      "text/plain": [
       "<pandas.io.formats.style.Styler at 0x7fec33fcb0d0>"
      ]
     },
     "execution_count": 3,
     "metadata": {},
     "output_type": "execute_result"
    }
   ],
   "source": [
    "print(\"Loading data...\")\n",
    "df = pd.read_parquet(CONFIG['data_path'])\n",
    "print(f\"Initial data shape: {df.shape}\")\n",
    "df.head().style"
   ]
  },
  {
   "cell_type": "code",
   "execution_count": 4,
   "id": "77a94618-c7d8-4ba9-a542-15f7c4ac324f",
   "metadata": {
    "tags": []
   },
   "outputs": [
    {
     "name": "stdout",
     "output_type": "stream",
     "text": [
      "<class 'pandas.core.frame.DataFrame'>\n",
      "RangeIndex: 550663 entries, 0 to 550662\n",
      "Data columns (total 14 columns):\n",
      " #   Column            Non-Null Count   Dtype  \n",
      "---  ------            --------------   -----  \n",
      " 0   protein_pdb_path  550663 non-null  object \n",
      " 1   ligand_sdf_path   550663 non-null  object \n",
      " 2   smiles            477203 non-null  object \n",
      " 3   pKi               115551 non-null  float64\n",
      " 4   source_file       550663 non-null  object \n",
      " 5   is_experimental   550663 non-null  bool   \n",
      " 6   resolution        9486 non-null    float64\n",
      " 7   pEC50             67187 non-null   float64\n",
      " 8   pKd (Wang, FEP)   1894 non-null    float64\n",
      " 9   pKd               20890 non-null   float64\n",
      " 10  pIC50             271665 non-null  float64\n",
      " 11  SMILES            73460 non-null   object \n",
      " 12  potency           73460 non-null   float64\n",
      " 13  assay             73460 non-null   object \n",
      "dtypes: bool(1), float64(7), object(6)\n",
      "memory usage: 55.1+ MB\n"
     ]
    }
   ],
   "source": [
    "# Quick one-liner to get all non-NaN counts\n",
    "df[['pKi', 'resolution', 'pEC50', 'pKd (Wang, FEP)', 'pKd', 'pIC50', 'potency']].notna().sum()\n",
    "\n",
    "# Or to see the info for all columns at once\n",
    "df.info()  # This shows non-null count for all columns"
   ]
  },
  {
   "cell_type": "code",
   "execution_count": 5,
   "id": "cf80a8e7-e3ea-43ac-a3ec-e35c724cdfef",
   "metadata": {
    "tags": []
   },
   "outputs": [
    {
     "data": {
      "text/plain": [
       "source_file\n",
       "BindingNetv2                        392967\n",
       "processed_data                       73460\n",
       "BindingNetv1                         68738\n",
       "PDBbind2020                           5118\n",
       "HiQBind                               4429\n",
       "BioLip2                               4057\n",
       "FEP_Zariquiey_extended_Wang_2015      1651\n",
       "FEP_Wang_2015                          243\n",
       "Name: count, dtype: int64"
      ]
     },
     "execution_count": 5,
     "metadata": {},
     "output_type": "execute_result"
    }
   ],
   "source": [
    "df.source_file.value_counts()"
   ]
  },
  {
   "cell_type": "code",
   "execution_count": 6,
   "id": "a2625821-a419-47a3-b24a-97aef087590f",
   "metadata": {
    "tags": []
   },
   "outputs": [],
   "source": [
    "df = df[df[\"source_file\"]!=\"processed_data\"]"
   ]
  },
  {
   "cell_type": "markdown",
   "id": "82bf4d34-af3e-4157-87a3-f7ffd4e21794",
   "metadata": {},
   "source": [
    "# 4 : Data pack for reduced size"
   ]
  },
  {
   "cell_type": "code",
   "execution_count": 7,
   "id": "da9d18e1-1e2f-4557-9a25-2a15cb945dc4",
   "metadata": {
    "tags": []
   },
   "outputs": [
    {
     "name": "stdout",
     "output_type": "stream",
     "text": [
      "<class 'pandas.core.frame.DataFrame'>\n",
      "Index: 477203 entries, 0 to 550662\n",
      "Data columns (total 14 columns):\n",
      " #   Column            Non-Null Count   Dtype  \n",
      "---  ------            --------------   -----  \n",
      " 0   protein_pdb_path  477203 non-null  object \n",
      " 1   ligand_sdf_path   477203 non-null  object \n",
      " 2   smiles            477203 non-null  object \n",
      " 3   pKi               115551 non-null  float64\n",
      " 4   source_file       477203 non-null  object \n",
      " 5   is_experimental   477203 non-null  bool   \n",
      " 6   resolution        9486 non-null    float64\n",
      " 7   pEC50             67187 non-null   float64\n",
      " 8   pKd (Wang, FEP)   1894 non-null    float64\n",
      " 9   pKd               20890 non-null   float64\n",
      " 10  pIC50             271665 non-null  float64\n",
      " 11  SMILES            0 non-null       object \n",
      " 12  potency           0 non-null       float64\n",
      " 13  assay             0 non-null       object \n",
      "dtypes: bool(1), float64(7), object(6)\n",
      "memory usage: 51.4+ MB\n"
     ]
    }
   ],
   "source": [
    "# Quick one-liner to get all non-NaN counts\n",
    "\n",
    "# Or to see the info for all columns at once\n",
    "df.info()  # This shows non-null count for all columns"
   ]
  },
  {
   "cell_type": "code",
   "execution_count": 8,
   "id": "0bf581a0-b626-4af9-8781-29f30747a4f3",
   "metadata": {
    "tags": []
   },
   "outputs": [
    {
     "data": {
      "text/plain": [
       "source_file\n",
       "BindingNetv2                        392967\n",
       "BindingNetv1                         68738\n",
       "PDBbind2020                           5118\n",
       "HiQBind                               4429\n",
       "BioLip2                               4057\n",
       "FEP_Zariquiey_extended_Wang_2015      1651\n",
       "FEP_Wang_2015                          243\n",
       "Name: count, dtype: int64"
      ]
     },
     "execution_count": 8,
     "metadata": {},
     "output_type": "execute_result"
    }
   ],
   "source": [
    "df.source_file.value_counts()"
   ]
  },
  {
   "cell_type": "markdown",
   "id": "c346ce80-69c6-4d5b-9541-82c79ec99402",
   "metadata": {},
   "source": [
    "# 5 : Standardize data\n",
    "- identify errors, most of bindingnet 1 no protein in the pdb"
   ]
  },
  {
   "cell_type": "code",
   "execution_count": 9,
   "id": "fa9e1628-2170-4f07-8543-0817d512fde8",
   "metadata": {
    "tags": []
   },
   "outputs": [],
   "source": [
    "# 0.1/sec (10k sec) + 5/sec (2000)  + 4.5/sec (105000"
   ]
  },
  {
   "cell_type": "code",
   "execution_count": null,
   "id": "a2263e09-754f-4482-bfde-bf2884b2acf1",
   "metadata": {
    "scrolled": true,
    "tags": []
   },
   "outputs": [
    {
     "name": "stdout",
     "output_type": "stream",
     "text": [
      "🚀 Ultra-fast mode: 64 independent workers\n",
      "Standardizing proteins...\n",
      "📦 Distributed 477203 proteins to 64 workers\n",
      "Error processing ../data/raw/BindingNetv2/moderate/target_CHEMBL5149/CHEMBL479209/protein.pdb: invalid literal for int() with base 16: 'A02FY'\n"
     ]
    }
   ],
   "source": [
    "# Cell 4: Complete UltraFastStructureStandardizer Implementation\n",
    "\n",
    "import os\n",
    "import gc\n",
    "import time\n",
    "from pathlib import Path\n",
    "from typing import Optional, List, Dict, Tuple, Any\n",
    "import numpy as np\n",
    "import pandas as pd\n",
    "from rdkit import Chem\n",
    "from rdkit.Chem import AllChem, rdPartialCharges\n",
    "from rdkit.Chem.MolStandardize import rdMolStandardize\n",
    "from multiprocessing import Pool, cpu_count, Queue, Process, Manager\n",
    "from concurrent.futures import ProcessPoolExecutor, as_completed\n",
    "from tqdm.auto import tqdm\n",
    "import logging\n",
    "from dataclasses import dataclass\n",
    "\n",
    "# Suppress warnings\n",
    "logging.basicConfig(level=logging.ERROR)\n",
    "os.environ['OMP_NUM_THREADS'] = '1'\n",
    "\n",
    "# Constants\n",
    "POLAR_HEAVY = {7, 8, 15, 16}  # N, O, P, S\n",
    "\n",
    "@dataclass\n",
    "class WorkerTask:\n",
    "    \"\"\"Task for a single worker\"\"\"\n",
    "    worker_id: int\n",
    "    items: List[Tuple]\n",
    "    start_idx: int\n",
    "\n",
    "def keep_only_polar_H_rdkit(mol: Chem.Mol) -> Chem.Mol:\n",
    "    \"\"\"Keep only hydrogens bonded to polar atoms (N, O, P, S).\"\"\"\n",
    "    if mol is None:\n",
    "        return None\n",
    "    \n",
    "    h_to_del = []\n",
    "    for a in mol.GetAtoms():\n",
    "        if a.GetAtomicNum() != 1:\n",
    "            continue\n",
    "        nbrs = a.GetNeighbors()\n",
    "        if not nbrs:\n",
    "            continue\n",
    "        if nbrs[0].GetAtomicNum() not in POLAR_HEAVY:\n",
    "            h_to_del.append(a.GetIdx())\n",
    "    \n",
    "    if h_to_del:\n",
    "        em = Chem.EditableMol(mol)\n",
    "        for idx in sorted(h_to_del, reverse=True):\n",
    "            em.RemoveAtom(idx)\n",
    "        mol = em.GetMol()\n",
    "    \n",
    "    mol.UpdatePropertyCache(strict=False)\n",
    "    targets = [a.GetIdx() for a in mol.GetAtoms()\n",
    "               if a.GetAtomicNum() in POLAR_HEAVY and a.GetNumImplicitHs() > 0]\n",
    "    if targets:\n",
    "        mol = Chem.AddHs(mol, addCoords=(mol.GetNumConformers() > 0), onlyOnAtoms=targets)\n",
    "    return mol\n",
    "\n",
    "def standardize_ligand(path: str, output_path: str) -> bool:\n",
    "    \"\"\"Standardize a ligand structure from SDF or PDB file.\"\"\"\n",
    "    try:\n",
    "        if path.endswith('.sdf'):\n",
    "            mol = Chem.MolFromMolFile(path, removeHs=False)\n",
    "        elif path.endswith('.pdb'):\n",
    "            mol = Chem.MolFromPDBFile(path, removeHs=False)\n",
    "        else:\n",
    "            mol = Chem.MolFromMolFile(path, removeHs=False)\n",
    "            \n",
    "        if mol is None:\n",
    "            return False\n",
    "        \n",
    "        mol = keep_only_polar_H_rdkit(mol)\n",
    "        Chem.SanitizeMol(mol)\n",
    "        Chem.AssignStereochemistry(mol, cleanIt=False, force=True)\n",
    "        \n",
    "        if mol.GetNumConformers() == 0:\n",
    "            AllChem.EmbedMolecule(mol, randomSeed=42)\n",
    "            \n",
    "        rdPartialCharges.ComputeGasteigerCharges(mol)\n",
    "        \n",
    "        Chem.MolToSmiles(mol)\n",
    "        if mol is None:\n",
    "            return False\n",
    "        else:\n",
    "            Chem.MolToMolFile(mol, output_path)\n",
    "            return True\n",
    "    except:\n",
    "        return False\n",
    "\n",
    "def clean_protein_structure_minimal(pdb_path: str, output_path: str) -> None:\n",
    "    \"\"\"Minimal protein cleaning - fast version without expensive operations.\"\"\"\n",
    "    try:\n",
    "        from pdbfixer import PDBFixer\n",
    "        from openmm.app import PDBFile, Modeller, element as elem\n",
    "        \n",
    "        fixer = PDBFixer(filename=pdb_path)\n",
    "        fixer.findMissingResidues()\n",
    "        fixer.findNonstandardResidues()\n",
    "        fixer.replaceNonstandardResidues()\n",
    "        fixer.removeHeterogens(keepWater=False)\n",
    "        \n",
    "        # Skip expensive operations:\n",
    "        # fixer.findMissingAtoms()\n",
    "        # fixer.addMissingAtoms()\n",
    "        # fixer.addMissingHydrogens(pH=ph)\n",
    "        \n",
    "        mod = Modeller(fixer.topology, fixer.positions)\n",
    "        \n",
    "        # Remove non-polar hydrogens\n",
    "        to_delete = []\n",
    "        for bond in mod.topology.bonds():\n",
    "            a1, a2 = bond\n",
    "            if a1.element == elem.hydrogen and a2.element == elem.carbon:\n",
    "                to_delete.append(a1)\n",
    "            elif a2.element == elem.hydrogen and a1.element == elem.carbon:\n",
    "                to_delete.append(a2)\n",
    "        \n",
    "        if to_delete:\n",
    "            mod.delete(to_delete)\n",
    "        \n",
    "        with open(output_path, 'w') as f:\n",
    "            PDBFile.writeFile(mod.topology, mod.positions, f)\n",
    "            \n",
    "    except Exception as e:\n",
    "        print(f\"Error processing {pdb_path}: {e}\")\n",
    "        pass\n",
    "\n",
    "def standardize_smiles_from_sdf(sdf_path: str) -> Optional[str]:\n",
    "    \"\"\"Generate standardized SMILES from SDF file.\"\"\"\n",
    "    try:\n",
    "        mol = Chem.MolFromMolFile(sdf_path, removeHs=False)\n",
    "        if mol is None:\n",
    "            return None\n",
    "        \n",
    "        to_del = []\n",
    "        for a in mol.GetAtoms():\n",
    "            if a.GetAtomicNum() != 1:\n",
    "                continue\n",
    "            nbs = a.GetNeighbors()\n",
    "            if nbs and nbs[0].GetAtomicNum() not in POLAR_HEAVY:\n",
    "                to_del.append(a.GetIdx())\n",
    "        \n",
    "        if to_del:\n",
    "            em = Chem.EditableMol(mol)\n",
    "            for idx in sorted(to_del, reverse=True):\n",
    "                em.RemoveAtom(idx)\n",
    "            mol = em.GetMol()\n",
    "        \n",
    "        mol.UpdatePropertyCache(strict=False)\n",
    "        AllChem.AssignAtomChiralTagsFromStructure(mol, replaceExistingTags=False)\n",
    "        Chem.AssignStereochemistry(mol, force=True, cleanIt=False)\n",
    "        \n",
    "        mol = rdMolStandardize.Cleanup(mol)\n",
    "        mol = rdMolStandardize.Normalizer().normalize(mol)\n",
    "        mol = rdMolStandardize.FragmentParent(mol)\n",
    "        mol = rdMolStandardize.TautomerEnumerator().Canonicalize(mol)\n",
    "        \n",
    "        for atom in mol.GetAtoms():\n",
    "            atom.SetIsotope(0)\n",
    "        \n",
    "        Chem.AssignStereochemistry(mol, force=True, cleanIt=True)\n",
    "        return Chem.MolToSmiles(mol, isomericSmiles=True, canonical=True)\n",
    "        \n",
    "    except Exception as e:\n",
    "        print(f\"Error processing {sdf_path}: {e}\")\n",
    "        return None\n",
    "\n",
    "def independent_ligand_worker(task: WorkerTask, progress_queue: Optional[Queue] = None) -> Dict:\n",
    "    \"\"\"Independent worker for ligand processing.\"\"\"\n",
    "    results = {}\n",
    "    \n",
    "    for i, (in_path, out_path) in enumerate(task.items):\n",
    "        global_idx = task.start_idx + i\n",
    "        success = standardize_ligand(in_path, out_path)\n",
    "        results[global_idx] = (out_path if success else None, success)\n",
    "        \n",
    "        if progress_queue is not None and (i + 1) % 10 == 0:\n",
    "            progress_queue.put((task.worker_id, 10))\n",
    "    \n",
    "    if progress_queue is not None:\n",
    "        remaining = len(task.items) % 10\n",
    "        if remaining > 0:\n",
    "            progress_queue.put((task.worker_id, remaining))\n",
    "    \n",
    "    return results\n",
    "\n",
    "def independent_protein_worker(task: WorkerTask, progress_queue: Optional[Queue] = None) -> Dict:\n",
    "    \"\"\"Independent worker for protein processing.\"\"\"\n",
    "    results = {}\n",
    "    \n",
    "    for i, (in_path, out_path) in enumerate(task.items):\n",
    "        global_idx = task.start_idx + i\n",
    "        clean_protein_structure_minimal(in_path, out_path)\n",
    "        success = os.path.exists(out_path)\n",
    "        results[global_idx] = (out_path if success else None, success)\n",
    "        \n",
    "        if progress_queue is not None and (i + 1) % 10 == 0:\n",
    "            progress_queue.put((task.worker_id, 10))\n",
    "    \n",
    "    if progress_queue is not None:\n",
    "        remaining = len(task.items) % 10\n",
    "        if remaining > 0:\n",
    "            progress_queue.put((task.worker_id, remaining))\n",
    "    \n",
    "    return results\n",
    "\n",
    "def independent_smiles_worker(task: WorkerTask, progress_queue: Optional[Queue] = None) -> Dict:\n",
    "    \"\"\"Independent worker for SMILES generation.\"\"\"\n",
    "    results = {}\n",
    "    \n",
    "    for i, sdf_path in enumerate(task.items):\n",
    "        global_idx = task.start_idx + i\n",
    "        smiles = standardize_smiles_from_sdf(sdf_path)\n",
    "        results[global_idx] = smiles\n",
    "        \n",
    "        if progress_queue is not None and (i + 1) % 10 == 0:\n",
    "            progress_queue.put((task.worker_id, 10))\n",
    "    \n",
    "    if progress_queue is not None:\n",
    "        remaining = len(task.items) % 10\n",
    "        if remaining > 0:\n",
    "            progress_queue.put((task.worker_id, remaining))\n",
    "    \n",
    "    return results\n",
    "\n",
    "class UltraFastStructureStandardizer:\n",
    "    \"\"\"Ultra-fast standardization with independent worker processing.\"\"\"\n",
    "    \n",
    "    def __init__(self, n_workers: Optional[int] = None, show_worker_progress: bool = False):\n",
    "        self.n_workers = n_workers or min(cpu_count() - 1, 32)\n",
    "        self.show_worker_progress = show_worker_progress\n",
    "        print(f\"🚀 Ultra-fast mode: {self.n_workers} independent workers\")\n",
    "    \n",
    "    def _distribute_work(self, items: List[Any]) -> List[WorkerTask]:\n",
    "        \"\"\"Distribute work evenly among workers.\"\"\"\n",
    "        n_items = len(items)\n",
    "        chunk_size = n_items // self.n_workers\n",
    "        remainder = n_items % self.n_workers\n",
    "        \n",
    "        tasks = []\n",
    "        start_idx = 0\n",
    "        \n",
    "        for worker_id in range(self.n_workers):\n",
    "            size = chunk_size + (1 if worker_id < remainder else 0)\n",
    "            \n",
    "            if size > 0:\n",
    "                end_idx = start_idx + size\n",
    "                task = WorkerTask(\n",
    "                    worker_id=worker_id,\n",
    "                    items=items[start_idx:end_idx],\n",
    "                    start_idx=start_idx\n",
    "                )\n",
    "                tasks.append(task)\n",
    "                start_idx = end_idx\n",
    "        \n",
    "        return tasks\n",
    "    \n",
    "    def _progress_monitor(self, queue: Queue, total: int, desc: str):\n",
    "        \"\"\"Monitor progress from all workers.\"\"\"\n",
    "        pbar = tqdm(total=total, desc=desc)\n",
    "        worker_progress = {}\n",
    "        \n",
    "        while True:\n",
    "            try:\n",
    "                worker_id, count = queue.get(timeout=0.1)\n",
    "                if worker_id == -1:\n",
    "                    break\n",
    "                    \n",
    "                if self.show_worker_progress:\n",
    "                    if worker_id not in worker_progress:\n",
    "                        worker_progress[worker_id] = 0\n",
    "                    worker_progress[worker_id] += count\n",
    "                    pbar.set_postfix({f\"W{k}\": v for k, v in sorted(worker_progress.items())})\n",
    "                \n",
    "                pbar.update(count)\n",
    "            except:\n",
    "                continue\n",
    "        \n",
    "        pbar.close()\n",
    "    \n",
    "    def standardize_ligands(self, df: pd.DataFrame, input_col: str, output_dir: str, \n",
    "                           show_progress: bool = True) -> pd.DataFrame:\n",
    "        \"\"\"Standardize ligands with independent worker processing.\"\"\"\n",
    "        start_time = time.time()\n",
    "        os.makedirs(output_dir, exist_ok=True)\n",
    "        \n",
    "        args = [(row[input_col], os.path.join(output_dir, f\"{idx}.sdf\"))\n",
    "                for idx, row in df.iterrows()]\n",
    "        \n",
    "        tasks = self._distribute_work(args)\n",
    "        print(f\"📦 Distributed {len(args)} ligands to {len(tasks)} workers\")\n",
    "        \n",
    "        manager = Manager() if show_progress else None\n",
    "        progress_queue = manager.Queue() if show_progress else None\n",
    "        \n",
    "        if show_progress:\n",
    "            monitor = Process(target=self._progress_monitor, \n",
    "                            args=(progress_queue, len(args), \"Standardizing ligands\"))\n",
    "            monitor.start()\n",
    "        \n",
    "        with ProcessPoolExecutor(max_workers=self.n_workers) as executor:\n",
    "            futures = [executor.submit(independent_ligand_worker, task, progress_queue) \n",
    "                      for task in tasks]\n",
    "            \n",
    "            all_results = {}\n",
    "            for future in as_completed(futures):\n",
    "                worker_results = future.result()\n",
    "                all_results.update(worker_results)\n",
    "        \n",
    "        if show_progress:\n",
    "            progress_queue.put((-1, 0))\n",
    "            monitor.join()\n",
    "        \n",
    "        sorted_results = [all_results[i] for i in sorted(all_results.keys())]\n",
    "        df['standardized_ligand_sdf'] = [r[0] for r in sorted_results]\n",
    "        \n",
    "        success_count = sum(1 for r in sorted_results if r[1])\n",
    "        elapsed = time.time() - start_time\n",
    "        rate = len(args) / elapsed if elapsed > 0 else 0\n",
    "        \n",
    "        print(f\"✅ Ligands: {success_count}/{len(args)} succeeded in {elapsed:.1f}s ({rate:.1f} structures/sec)\")\n",
    "        \n",
    "        return df\n",
    "    \n",
    "    def standardize_proteins(self, df: pd.DataFrame, input_col: str, output_dir: str,\n",
    "                            show_progress: bool = True) -> pd.DataFrame:\n",
    "        \"\"\"Standardize proteins with independent worker processing.\"\"\"\n",
    "        start_time = time.time()\n",
    "        os.makedirs(output_dir, exist_ok=True)\n",
    "        \n",
    "        args = [(row[input_col], os.path.join(output_dir, f\"{idx}.pdb\"))\n",
    "                for idx, row in df.iterrows()]\n",
    "        \n",
    "        tasks = self._distribute_work(args)\n",
    "        print(f\"📦 Distributed {len(args)} proteins to {len(tasks)} workers\")\n",
    "        \n",
    "        manager = Manager() if show_progress else None\n",
    "        progress_queue = manager.Queue() if show_progress else None\n",
    "        \n",
    "        if show_progress:\n",
    "            monitor = Process(target=self._progress_monitor,\n",
    "                            args=(progress_queue, len(args), \"Standardizing proteins\"))\n",
    "            monitor.start()\n",
    "        \n",
    "        with ProcessPoolExecutor(max_workers=self.n_workers) as executor:\n",
    "            futures = [executor.submit(independent_protein_worker, task, progress_queue)\n",
    "                      for task in tasks]\n",
    "            \n",
    "            all_results = {}\n",
    "            for future in as_completed(futures):\n",
    "                worker_results = future.result()\n",
    "                all_results.update(worker_results)\n",
    "        \n",
    "        if show_progress:\n",
    "            progress_queue.put((-1, 0))\n",
    "            monitor.join()\n",
    "        \n",
    "        sorted_results = [all_results[i] for i in sorted(all_results.keys())]\n",
    "        df['standardized_protein_pdb'] = [r[0] for r in sorted_results]\n",
    "        \n",
    "        success_count = sum(1 for r in sorted_results if r[1])\n",
    "        elapsed = time.time() - start_time\n",
    "        rate = len(args) / elapsed if elapsed > 0 else 0\n",
    "        \n",
    "        print(f\"✅ Proteins: {success_count}/{len(args)} succeeded in {elapsed:.1f}s ({rate:.1f} structures/sec)\")\n",
    "        \n",
    "        return df\n",
    "    \n",
    "    def standardize_smiles(self, df: pd.DataFrame, sdf_col: str = 'standardized_ligand_sdf',\n",
    "                          show_progress: bool = True) -> pd.DataFrame:\n",
    "        \"\"\"Generate SMILES with independent worker processing.\"\"\"\n",
    "        start_time = time.time()\n",
    "        sdf_paths = df[sdf_col].tolist()\n",
    "        \n",
    "        tasks = self._distribute_work(sdf_paths)\n",
    "        print(f\"📦 Distributed {len(sdf_paths)} SMILES tasks to {len(tasks)} workers\")\n",
    "        \n",
    "        manager = Manager() if show_progress else None\n",
    "        progress_queue = manager.Queue() if show_progress else None\n",
    "        \n",
    "        if show_progress:\n",
    "            monitor = Process(target=self._progress_monitor,\n",
    "                            args=(progress_queue, len(sdf_paths), \"Generating SMILES\"))\n",
    "            monitor.start()\n",
    "        \n",
    "        with ProcessPoolExecutor(max_workers=self.n_workers) as executor:\n",
    "            futures = [executor.submit(independent_smiles_worker, task, progress_queue)\n",
    "                      for task in tasks]\n",
    "            \n",
    "            all_results = {}\n",
    "            for future in as_completed(futures):\n",
    "                worker_results = future.result()\n",
    "                all_results.update(worker_results)\n",
    "        \n",
    "        if show_progress:\n",
    "            progress_queue.put((-1, 0))\n",
    "            monitor.join()\n",
    "        \n",
    "        sorted_smiles = [all_results[i] for i in sorted(all_results.keys())]\n",
    "        df['std_smiles'] = sorted_smiles\n",
    "        \n",
    "        success_count = sum(1 for s in sorted_smiles if s is not None)\n",
    "        elapsed = time.time() - start_time\n",
    "        rate = len(sdf_paths) / elapsed if elapsed > 0 else 0\n",
    "        \n",
    "        print(f\"✅ SMILES: {success_count}/{len(sdf_paths)} succeeded in {elapsed:.1f}s ({rate:.1f} SMILES/sec)\")\n",
    "        \n",
    "        return df\n",
    "\n",
    "    \n",
    "from rdkit import RDLogger\n",
    "\n",
    "# Disable RDKit warnings\n",
    "RDLogger.DisableLog('rdApp.*')\n",
    "\n",
    "# Initialize and run\n",
    "standardizer = UltraFastStructureStandardizer(\n",
    "    n_workers=64,  # Reduced from 64 for better efficiency\n",
    "    show_worker_progress=True\n",
    ")\n",
    "\n",
    "# Standardize proteins\n",
    "print(\"Standardizing proteins...\")\n",
    "df = standardizer.standardize_proteins(df, 'protein_pdb_path', './output/proteins/')\n",
    "df = df.dropna(subset=['standardized_protein_pdb'])\n",
    "\n",
    "# Standardize ligands\n",
    "print(\"Standardizing ligands...\")\n",
    "df = standardizer.standardize_ligands(df, 'ligand_sdf_path', './output/ligands/')\n",
    "df = df.dropna(subset=['standardized_ligand_sdf'])\n",
    "\n",
    "# Generate standardized SMILES\n",
    "print(\"Generating standardized SMILES...\")\n",
    "df = standardizer.standardize_smiles(df)\n",
    "\n",
    "# Remove entries with missing standardized structures\n",
    "print(f\"Valid structures: {len(df)}\")"
   ]
  },
  {
   "cell_type": "raw",
   "id": "40abe77a-acef-47f4-a22d-c37523548faf",
   "metadata": {
    "tags": []
   },
   "source": [
    "# Change from:\n",
    "standardizer = StructureStandardizer(n_workers=CONFIG['n_workers'])  # 31 workers\n",
    "import psutil\n",
    "import os\n",
    "\n",
    "\n",
    "\n",
    "# Standardize proteins\n",
    "print(\"Standardizing proteins...\")\n",
    "df = standardizer.standardize_proteins(\n",
    "    df, \n",
    "    'protein_pdb_path',\n",
    "    CONFIG['protein_out_dir']\n",
    ")\n",
    "\n",
    "# Standardize ligands\n",
    "\n",
    "print(\"Standardizing ligands...\")\n",
    "df = standardizer.standardize_ligands(\n",
    "    df,\n",
    "    'ligand_sdf_path',\n",
    "    CONFIG['ligand_out_dir']\n",
    ")\n",
    "\n",
    "# Generate standardized SMILES\n",
    "print(\"Generating standardized SMILES...\")\n",
    "df = standardizer.standardize_smiles(df)\n",
    "\n",
    "# Remove entries with missing standardized structures\n",
    "df = df.dropna(subset=['standardized_protein_pdb', 'standardized_ligand_sdf'])\n",
    "print(f\"Valid structures: {len(df)}\")"
   ]
  },
  {
   "cell_type": "code",
   "execution_count": 1,
   "id": "724daf6a-4e99-4872-a60a-196de982686f",
   "metadata": {
    "tags": []
   },
   "outputs": [
    {
     "data": {
      "text/plain": [
       "1"
      ]
     },
     "execution_count": 1,
     "metadata": {},
     "output_type": "execute_result"
    }
   ],
   "source": [
    "1"
   ]
  },
  {
   "cell_type": "code",
   "execution_count": 2,
   "id": "b2077f01-4d6d-47cf-ba08-ac4d11eeb578",
   "metadata": {
    "tags": []
   },
   "outputs": [
    {
     "data": {
      "text/plain": [
       "1"
      ]
     },
     "execution_count": 2,
     "metadata": {},
     "output_type": "execute_result"
    }
   ],
   "source": [
    "1"
   ]
  },
  {
   "cell_type": "code",
   "execution_count": null,
   "id": "8a5227b8-615d-4468-ba11-9e5a58e2c2c0",
   "metadata": {
    "tags": []
   },
   "outputs": [],
   "source": [
    "df = df.dropna(subset=['standardized_protein_pdb', 'standardized_ligand_sdf'])\n"
   ]
  },
  {
   "cell_type": "code",
   "execution_count": null,
   "id": "3e9b3659-3415-4fa1-8fe8-64e438f273f1",
   "metadata": {
    "tags": []
   },
   "outputs": [],
   "source": [
    "df.to_parquet('binding_standardized_v1_save.parquet', index = False)"
   ]
  },
  {
   "cell_type": "code",
   "execution_count": null,
   "id": "b05edcce-2744-48f9-b794-c9bd37859503",
   "metadata": {
    "tags": []
   },
   "outputs": [],
   "source": [
    "# kill if nothing wrote at the end of the day\n",
    "\n",
    "\n"
   ]
  },
  {
   "cell_type": "code",
   "execution_count": null,
   "id": "db1331e6-299a-44d0-835a-b6905be5131a",
   "metadata": {},
   "outputs": [],
   "source": [
    "1"
   ]
  },
  {
   "cell_type": "code",
   "execution_count": null,
   "id": "a4570cde-1ddf-4418-b705-f35fa2b5b15f",
   "metadata": {},
   "outputs": [],
   "source": [
    "\n",
    "# Sample if specified\n",
    "if CONFIG['sample_size']:\n",
    "    df = df.sample(n=CONFIG['sample_size'], random_state=SEED).reset_index(drop=True)\n",
    "    print(f\"Sampled to {len(df)} entries\")\n",
    "\n",
    "# Filter for entries with required columns\n",
    "required_cols = ['standardized_protein_pdb', 'standardized_ligand_sdf'] + CONFIG['task_cols']\n",
    "df = df.dropna(how='all', subset=required_cols)\n",
    "print(f\"After filtering: {df.shape}\")\n",
    "\n",
    "# Add protein ID if not present\n",
    "if 'protein_id' not in df.columns:\n",
    "    df['protein_id'] = df['standardized_protein_pdb'].apply(\n",
    "        lambda p: os.path.splitext(os.path.basename(p))[0] if pd.notnull(p) else None\n",
    "    )"
   ]
  },
  {
   "cell_type": "code",
   "execution_count": null,
   "id": "3ce97868-1976-4b5e-8e55-cc9931cf138b",
   "metadata": {},
   "outputs": [],
   "source": [
    "# Quick one-liner to get all non-NaN counts\n",
    "df[['pKi', 'resolution', 'pEC50', 'pKd (Wang, FEP)', 'pKd', 'pIC50', 'potency']].notna().sum()\n",
    "\n",
    "# Or to see the info for all columns at once\n",
    "df.info()  # This shows non-null count for all columns"
   ]
  },
  {
   "cell_type": "code",
   "execution_count": null,
   "id": "3546620f-63bc-4124-9e2e-d27ad753d74c",
   "metadata": {
    "tags": []
   },
   "outputs": [],
   "source": [
    "df.to_parquet('binding_standardized.parquet', index = False)"
   ]
  },
  {
   "cell_type": "markdown",
   "id": "f1428458-5d21-48cb-b2ac-598daf082877",
   "metadata": {},
   "source": [
    "# 6 : Filter complex"
   ]
  },
  {
   "cell_type": "code",
   "execution_count": null,
   "id": "94485d91-84bb-4448-9f6b-29ea88a552fe",
   "metadata": {
    "tags": []
   },
   "outputs": [],
   "source": [
    "df = pd.read_parquet('binding_standardized.parquet')"
   ]
  },
  {
   "cell_type": "code",
   "execution_count": null,
   "id": "dcce18bf-0916-429c-8eaf-6458bdb4c3e7",
   "metadata": {
    "tags": []
   },
   "outputs": [],
   "source": [
    "df = df.dropna(subset=['standardized_protein_pdb', 'standardized_ligand_sdf'])\n",
    "\n",
    "df"
   ]
  },
  {
   "cell_type": "code",
   "execution_count": null,
   "id": "83918df8-94f1-4728-8729-9c66fa37925d",
   "metadata": {
    "scrolled": true,
    "tags": []
   },
   "outputs": [],
   "source": [
    "# Cell 5: Calculate Molecular Properties\n",
    "if 'MolWt' not in df.columns:\n",
    "    print(\"Calculating molecular properties...\")\n",
    "    df = add_molecular_properties_parallel(df, smiles_col='std_smiles')\n",
    "    df = compute_ligand_efficiency(df, CONFIG['task_cols'])\n",
    "    df = compute_mean_ligand_efficiency(df)\n",
    "    print(\"Properties calculated\")\n",
    "\n",
    "# Display statistics\n",
    "print(\"\\nProperty Statistics:\")\n",
    "property_cols = ['MolWt', 'HeavyAtomCount', 'LogP', 'QED', 'LE', 'LE_norm']\n",
    "for col in property_cols:\n",
    "    if col in df.columns:\n",
    "        print(f\"{col}: {df[col].mean():.2f} ± {df[col].std():.2f}\")"
   ]
  },
  {
   "cell_type": "code",
   "execution_count": null,
   "id": "fb5d9e5e-100e-413b-af1c-72e370a1fa65",
   "metadata": {
    "tags": []
   },
   "outputs": [],
   "source": [
    "# Cell 6: Filter Data\n",
    "print(\"Filtering data...\")\n",
    "\n",
    "# Apply property filters\n",
    "df_filtered = filter_by_properties(\n",
    "    df,\n",
    "    min_heavy_atoms=CONFIG['filter_config']['min_heavy_atoms'],\n",
    "    max_heavy_atoms=CONFIG['filter_config']['max_heavy_atoms'],\n",
    "    max_mw=CONFIG['filter_config']['max_mw'],\n",
    "    min_carbons=CONFIG['filter_config']['min_carbons'],\n",
    "    min_le=CONFIG['filter_config']['min_le'] if 'LE' in df.columns else None,\n",
    "    max_le_norm=CONFIG['filter_config']['max_le_norm'] if 'LE_norm' in df.columns else None\n",
    ")\n",
    "\n",
    "print(f\"After filtering: {len(df)} -> {len(df_filtered)}\")\n",
    "df = df_filtered\n",
    "\n",
    "# Remove duplicates\n",
    "from gnn_dta_mtl.data.preprocessing import remove_duplicates\n",
    "df = remove_duplicates(df, subset=['protein_id', 'std_smiles'])\n",
    "\n",
    "print(f\"Final dataset size: {len(df)}\")"
   ]
  },
  {
   "cell_type": "code",
   "execution_count": null,
   "id": "32bf8a03-05ae-40ba-8692-777d57315706",
   "metadata": {
    "tags": []
   },
   "outputs": [],
   "source": [
    "df.to_parquet(\"./featurization_set.parquet\", index = False)"
   ]
  },
  {
   "cell_type": "markdown",
   "id": "fbe33c8a-10f1-4cd8-8c26-e999e016084b",
   "metadata": {},
   "source": [
    "# 7 : Process Protein Structures"
   ]
  },
  {
   "cell_type": "code",
   "execution_count": 3,
   "id": "7864c1b1-4f1f-4010-855f-6f1fee4b7c8e",
   "metadata": {
    "tags": []
   },
   "outputs": [],
   "source": [
    "df = pd.read_parquet(\"./featurization_set.parquet\")"
   ]
  },
  {
   "cell_type": "raw",
   "id": "416c528c-23d3-410a-b8d3-6aadce9b9a76",
   "metadata": {
    "tags": []
   },
   "source": [
    "df = df[df['source_file'].isin(['BioLip2',\n",
    " 'FEP_Wang_2015',\n",
    " 'FEP_Zariquiey_extended_Wang_2015',\n",
    " 'HiQBind',\n",
    " 'PDBbind2020'])]\n",
    "df"
   ]
  },
  {
   "cell_type": "code",
   "execution_count": 4,
   "id": "04a96c06-a108-429a-9349-0233d67cc646",
   "metadata": {
    "tags": []
   },
   "outputs": [],
   "source": [
    "import torch\n",
    "import gc\n",
    "\n",
    "# Clear cache\n",
    "torch.cuda.empty_cache()\n",
    "\n",
    "# Force garbage collection\n",
    "gc.collect()\n",
    "\n",
    "# If you have variables holding tensors\n",
    "torch.cuda.empty_cache()"
   ]
  },
  {
   "cell_type": "code",
   "execution_count": null,
   "id": "6750cfdd-9b36-431f-9117-5dcef1dc1623",
   "metadata": {
    "scrolled": true,
    "tags": []
   },
   "outputs": [
    {
     "name": "stdout",
     "output_type": "stream",
     "text": [
      "Processing protein structures and generating ESM embeddings...\n",
      "Processing 474647 unique PDBs in 10 chunks\n",
      "\n",
      "[Chunk 0] Processing 50000 structures\n"
     ]
    },
    {
     "name": "stderr",
     "output_type": "stream",
     "text": [
      "Some weights of EsmModel were not initialized from the model checkpoint at facebook/esm2_t33_650M_UR50D and are newly initialized: ['esm.pooler.dense.weight', 'esm.pooler.dense.bias']\n",
      "You should probably TRAIN this model on a down-stream task to be able to use it for predictions and inference.\n"
     ]
    },
    {
     "data": {
      "application/vnd.jupyter.widget-view+json": {
       "model_id": "f4c241a8ce0f4c94aebff66e540df07e",
       "version_major": 2,
       "version_minor": 0
      },
      "text/plain": [
       "Chunk 0 - PDB parsing:   0%|          | 0/50000 [00:00<?, ?it/s]"
      ]
     },
     "metadata": {},
     "output_type": "display_data"
    },
    {
     "name": "stdout",
     "output_type": "stream",
     "text": [
      "[Chunk 0] Generating embeddings for 50000 proteins\n"
     ]
    },
    {
     "data": {
      "application/vnd.jupyter.widget-view+json": {
       "model_id": "e3be3f71f2c940c8998c2ec709ceeb5c",
       "version_major": 2,
       "version_minor": 0
      },
      "text/plain": [
       "  0%|          | 0/50000 [00:00<?, ?it/s]"
      ]
     },
     "metadata": {},
     "output_type": "display_data"
    },
    {
     "name": "stdout",
     "output_type": "stream",
     "text": [
      "[Chunk 0] ✅ Saved 50000 structures\n",
      "\n",
      "[Chunk 1] Processing 50000 structures\n"
     ]
    },
    {
     "name": "stderr",
     "output_type": "stream",
     "text": [
      "Some weights of EsmModel were not initialized from the model checkpoint at facebook/esm2_t33_650M_UR50D and are newly initialized: ['esm.pooler.dense.weight', 'esm.pooler.dense.bias']\n",
      "You should probably TRAIN this model on a down-stream task to be able to use it for predictions and inference.\n"
     ]
    },
    {
     "data": {
      "application/vnd.jupyter.widget-view+json": {
       "model_id": "bed6c15b99de4c35aa75dfacafd86c19",
       "version_major": 2,
       "version_minor": 0
      },
      "text/plain": [
       "Chunk 1 - PDB parsing:   0%|          | 0/50000 [00:00<?, ?it/s]"
      ]
     },
     "metadata": {},
     "output_type": "display_data"
    }
   ],
   "source": [
    "# Cell 7: Process Protein Structures\n",
    "\n",
    "print(\"Processing protein structures and generating ESM embeddings...\")\n",
    "\n",
    "# Initialize structure processor\n",
    "processor = StructureProcessor(\n",
    "    esm_model_name=CONFIG['esm_model_name'],\n",
    "    chunk_size=CONFIG['chunk_size'],\n",
    "    max_workers=CONFIG['n_workers'],\n",
    "    embed_dir=CONFIG['embeddings_dir'],\n",
    "    out_dir=CONFIG['structure_chunks_dir']\n",
    ")\n",
    "\n",
    "# Process structures\n",
    "metadata = processor.process_dataframe(df, pdb_col='standardized_protein_pdb')\n"
   ]
  },
  {
   "cell_type": "code",
   "execution_count": null,
   "id": "c53e54c0-cabf-4521-9cc7-10486a796102",
   "metadata": {
    "tags": []
   },
   "outputs": [],
   "source": [
    "\n",
    "# Create chunk loader\n",
    "chunk_loader = StructureChunkLoader(\n",
    "    chunk_dir=CONFIG['structure_chunks_dir'],\n",
    "    cache_size=10\n",
    ")\n",
    "\n",
    "# Verify available structures\n",
    "available_pdb_ids = chunk_loader.get_available_pdb_ids()\n",
    "available_pdb_ids = [i.replace('@','/') for i in available_pdb_ids]"
   ]
  },
  {
   "cell_type": "code",
   "execution_count": null,
   "id": "62ef2922-65af-40fb-bea8-d51d62667b36",
   "metadata": {},
   "outputs": [],
   "source": [
    "df = df[df['standardized_protein_pdb'].isin(available_pdb_ids)].reset_index(drop=True)\n",
    "print(f\"Structures available for {len(df)} entries\")"
   ]
  },
  {
   "cell_type": "code",
   "execution_count": null,
   "id": "7527c90c-7315-42a5-b862-463ebe539399",
   "metadata": {},
   "outputs": [],
   "source": [
    "df.to_parquet(\"./binding_set.parquet\", index = False)"
   ]
  },
  {
   "cell_type": "code",
   "execution_count": null,
   "id": "c48c3f43-93e7-4b9e-9681-aae900fa8d1d",
   "metadata": {
    "tags": []
   },
   "outputs": [],
   "source": [
    "metadata"
   ]
  },
  {
   "cell_type": "code",
   "execution_count": null,
   "id": "55f65df7-31c2-41eb-ab7e-8b3ea77a4171",
   "metadata": {
    "tags": []
   },
   "outputs": [],
   "source": [
    "import pandas as pd\n",
    "df = pd.read_parquet(\"./binding_set.parquet\")"
   ]
  },
  {
   "cell_type": "code",
   "execution_count": 14,
   "id": "913567fb-e214-45bf-9dac-2dadf07af93b",
   "metadata": {},
   "outputs": [
    {
     "data": {
      "text/html": [
       "<style type=\"text/css\">\n",
       "</style>\n",
       "<table id=\"T_1540b\">\n",
       "  <thead>\n",
       "    <tr>\n",
       "      <th class=\"blank level0\" >&nbsp;</th>\n",
       "      <th id=\"T_1540b_level0_col0\" class=\"col_heading level0 col0\" >protein_pdb_path</th>\n",
       "      <th id=\"T_1540b_level0_col1\" class=\"col_heading level0 col1\" >ligand_sdf_path</th>\n",
       "      <th id=\"T_1540b_level0_col2\" class=\"col_heading level0 col2\" >smiles</th>\n",
       "      <th id=\"T_1540b_level0_col3\" class=\"col_heading level0 col3\" >pKi</th>\n",
       "      <th id=\"T_1540b_level0_col4\" class=\"col_heading level0 col4\" >source_file</th>\n",
       "      <th id=\"T_1540b_level0_col5\" class=\"col_heading level0 col5\" >is_experimental</th>\n",
       "      <th id=\"T_1540b_level0_col6\" class=\"col_heading level0 col6\" >resolution</th>\n",
       "      <th id=\"T_1540b_level0_col7\" class=\"col_heading level0 col7\" >pEC50</th>\n",
       "      <th id=\"T_1540b_level0_col8\" class=\"col_heading level0 col8\" >pKd (Wang, FEP)</th>\n",
       "      <th id=\"T_1540b_level0_col9\" class=\"col_heading level0 col9\" >pKd</th>\n",
       "      <th id=\"T_1540b_level0_col10\" class=\"col_heading level0 col10\" >pIC50</th>\n",
       "      <th id=\"T_1540b_level0_col11\" class=\"col_heading level0 col11\" >SMILES</th>\n",
       "      <th id=\"T_1540b_level0_col12\" class=\"col_heading level0 col12\" >potency</th>\n",
       "      <th id=\"T_1540b_level0_col13\" class=\"col_heading level0 col13\" >assay</th>\n",
       "      <th id=\"T_1540b_level0_col14\" class=\"col_heading level0 col14\" >standardized_protein_pdb</th>\n",
       "      <th id=\"T_1540b_level0_col15\" class=\"col_heading level0 col15\" >standardized_ligand_sdf</th>\n",
       "      <th id=\"T_1540b_level0_col16\" class=\"col_heading level0 col16\" >std_smiles</th>\n",
       "      <th id=\"T_1540b_level0_col17\" class=\"col_heading level0 col17\" >protein_id</th>\n",
       "      <th id=\"T_1540b_level0_col18\" class=\"col_heading level0 col18\" >InChIKey</th>\n",
       "      <th id=\"T_1540b_level0_col19\" class=\"col_heading level0 col19\" >MolWt</th>\n",
       "      <th id=\"T_1540b_level0_col20\" class=\"col_heading level0 col20\" >HeavyAtomCount</th>\n",
       "      <th id=\"T_1540b_level0_col21\" class=\"col_heading level0 col21\" >QED</th>\n",
       "      <th id=\"T_1540b_level0_col22\" class=\"col_heading level0 col22\" >NumHDonors</th>\n",
       "      <th id=\"T_1540b_level0_col23\" class=\"col_heading level0 col23\" >NumHAcceptors</th>\n",
       "      <th id=\"T_1540b_level0_col24\" class=\"col_heading level0 col24\" >NumRotatableBonds</th>\n",
       "      <th id=\"T_1540b_level0_col25\" class=\"col_heading level0 col25\" >TPSA</th>\n",
       "      <th id=\"T_1540b_level0_col26\" class=\"col_heading level0 col26\" >LogP</th>\n",
       "      <th id=\"T_1540b_level0_col27\" class=\"col_heading level0 col27\" >LE_pKi</th>\n",
       "      <th id=\"T_1540b_level0_col28\" class=\"col_heading level0 col28\" >LEnorm_pKi</th>\n",
       "      <th id=\"T_1540b_level0_col29\" class=\"col_heading level0 col29\" >LE_pEC50</th>\n",
       "      <th id=\"T_1540b_level0_col30\" class=\"col_heading level0 col30\" >LEnorm_pEC50</th>\n",
       "      <th id=\"T_1540b_level0_col31\" class=\"col_heading level0 col31\" >LE_pKd (Wang, FEP)</th>\n",
       "      <th id=\"T_1540b_level0_col32\" class=\"col_heading level0 col32\" >LEnorm_pKd (Wang, FEP)</th>\n",
       "      <th id=\"T_1540b_level0_col33\" class=\"col_heading level0 col33\" >LE_pKd</th>\n",
       "      <th id=\"T_1540b_level0_col34\" class=\"col_heading level0 col34\" >LEnorm_pKd</th>\n",
       "      <th id=\"T_1540b_level0_col35\" class=\"col_heading level0 col35\" >LE_pIC50</th>\n",
       "      <th id=\"T_1540b_level0_col36\" class=\"col_heading level0 col36\" >LEnorm_pIC50</th>\n",
       "      <th id=\"T_1540b_level0_col37\" class=\"col_heading level0 col37\" >LE_potency</th>\n",
       "      <th id=\"T_1540b_level0_col38\" class=\"col_heading level0 col38\" >LEnorm_potency</th>\n",
       "      <th id=\"T_1540b_level0_col39\" class=\"col_heading level0 col39\" >LE</th>\n",
       "      <th id=\"T_1540b_level0_col40\" class=\"col_heading level0 col40\" >LE_norm</th>\n",
       "      <th id=\"T_1540b_level0_col41\" class=\"col_heading level0 col41\" >carbon_count</th>\n",
       "    </tr>\n",
       "  </thead>\n",
       "  <tbody>\n",
       "    <tr>\n",
       "      <th id=\"T_1540b_level0_row0\" class=\"row_heading level0 row0\" >0</th>\n",
       "      <td id=\"T_1540b_row0_col0\" class=\"data row0 col0\" >../data/raw/BindingNetv2/high/target_CHEMBL3902/CHEMBL60581/protein.pdb</td>\n",
       "      <td id=\"T_1540b_row0_col1\" class=\"data row0 col1\" >../data/raw/BindingNetv2/high/target_CHEMBL3902/CHEMBL60581/ligand.sdf</td>\n",
       "      <td id=\"T_1540b_row0_col2\" class=\"data row0 col2\" >CCCCCCSCC(NC(=O)CCC(N)C(=O)O)C(=O)NCCC(=O)O</td>\n",
       "      <td id=\"T_1540b_row0_col3\" class=\"data row0 col3\" >3.259637</td>\n",
       "      <td id=\"T_1540b_row0_col4\" class=\"data row0 col4\" >BindingNetv2</td>\n",
       "      <td id=\"T_1540b_row0_col5\" class=\"data row0 col5\" >False</td>\n",
       "      <td id=\"T_1540b_row0_col6\" class=\"data row0 col6\" >nan</td>\n",
       "      <td id=\"T_1540b_row0_col7\" class=\"data row0 col7\" >nan</td>\n",
       "      <td id=\"T_1540b_row0_col8\" class=\"data row0 col8\" >nan</td>\n",
       "      <td id=\"T_1540b_row0_col9\" class=\"data row0 col9\" >nan</td>\n",
       "      <td id=\"T_1540b_row0_col10\" class=\"data row0 col10\" >nan</td>\n",
       "      <td id=\"T_1540b_row0_col11\" class=\"data row0 col11\" >None</td>\n",
       "      <td id=\"T_1540b_row0_col12\" class=\"data row0 col12\" >nan</td>\n",
       "      <td id=\"T_1540b_row0_col13\" class=\"data row0 col13\" >None</td>\n",
       "      <td id=\"T_1540b_row0_col14\" class=\"data row0 col14\" >./output/proteins/0.pdb</td>\n",
       "      <td id=\"T_1540b_row0_col15\" class=\"data row0 col15\" >./output/ligands/0.sdf</td>\n",
       "      <td id=\"T_1540b_row0_col16\" class=\"data row0 col16\" >CCCCCCSCC(NC(=O)CCC([NH3+])C(=O)[O-])C(=O)NCCC(=O)[O-]</td>\n",
       "      <td id=\"T_1540b_row0_col17\" class=\"data row0 col17\" >0</td>\n",
       "      <td id=\"T_1540b_row0_col18\" class=\"data row0 col18\" >RILVFYFKIDXJNY-UHFFFAOYSA-M</td>\n",
       "      <td id=\"T_1540b_row0_col19\" class=\"data row0 col19\" >404.509000</td>\n",
       "      <td id=\"T_1540b_row0_col20\" class=\"data row0 col20\" >27</td>\n",
       "      <td id=\"T_1540b_row0_col21\" class=\"data row0 col21\" >0.233282</td>\n",
       "      <td id=\"T_1540b_row0_col22\" class=\"data row0 col22\" >3</td>\n",
       "      <td id=\"T_1540b_row0_col23\" class=\"data row0 col23\" >7</td>\n",
       "      <td id=\"T_1540b_row0_col24\" class=\"data row0 col24\" >16</td>\n",
       "      <td id=\"T_1540b_row0_col25\" class=\"data row0 col25\" >166.100000</td>\n",
       "      <td id=\"T_1540b_row0_col26\" class=\"data row0 col26\" >-2.818500</td>\n",
       "      <td id=\"T_1540b_row0_col27\" class=\"data row0 col27\" >0.120727</td>\n",
       "      <td id=\"T_1540b_row0_col28\" class=\"data row0 col28\" >0.000298</td>\n",
       "      <td id=\"T_1540b_row0_col29\" class=\"data row0 col29\" >nan</td>\n",
       "      <td id=\"T_1540b_row0_col30\" class=\"data row0 col30\" >nan</td>\n",
       "      <td id=\"T_1540b_row0_col31\" class=\"data row0 col31\" >nan</td>\n",
       "      <td id=\"T_1540b_row0_col32\" class=\"data row0 col32\" >nan</td>\n",
       "      <td id=\"T_1540b_row0_col33\" class=\"data row0 col33\" >nan</td>\n",
       "      <td id=\"T_1540b_row0_col34\" class=\"data row0 col34\" >nan</td>\n",
       "      <td id=\"T_1540b_row0_col35\" class=\"data row0 col35\" >nan</td>\n",
       "      <td id=\"T_1540b_row0_col36\" class=\"data row0 col36\" >nan</td>\n",
       "      <td id=\"T_1540b_row0_col37\" class=\"data row0 col37\" >None</td>\n",
       "      <td id=\"T_1540b_row0_col38\" class=\"data row0 col38\" >None</td>\n",
       "      <td id=\"T_1540b_row0_col39\" class=\"data row0 col39\" >0.120727</td>\n",
       "      <td id=\"T_1540b_row0_col40\" class=\"data row0 col40\" >0.000298</td>\n",
       "      <td id=\"T_1540b_row0_col41\" class=\"data row0 col41\" >17</td>\n",
       "    </tr>\n",
       "    <tr>\n",
       "      <th id=\"T_1540b_level0_row1\" class=\"row_heading level0 row1\" >1</th>\n",
       "      <td id=\"T_1540b_row1_col0\" class=\"data row1 col0\" >../data/raw/BindingNetv2/moderate/target_CHEMBL3902/CHEMBL58951/protein.pdb</td>\n",
       "      <td id=\"T_1540b_row1_col1\" class=\"data row1 col1\" >../data/raw/BindingNetv2/moderate/target_CHEMBL3902/CHEMBL58951/ligand.sdf</td>\n",
       "      <td id=\"T_1540b_row1_col2\" class=\"data row1 col2\" >NC(CCC(=O)NC(CSCc1ccccc1)C(=O)NC(C(=O)O)c1ccccc1)C(=O)O</td>\n",
       "      <td id=\"T_1540b_row1_col3\" class=\"data row1 col3\" >6.376751</td>\n",
       "      <td id=\"T_1540b_row1_col4\" class=\"data row1 col4\" >BindingNetv2</td>\n",
       "      <td id=\"T_1540b_row1_col5\" class=\"data row1 col5\" >False</td>\n",
       "      <td id=\"T_1540b_row1_col6\" class=\"data row1 col6\" >nan</td>\n",
       "      <td id=\"T_1540b_row1_col7\" class=\"data row1 col7\" >nan</td>\n",
       "      <td id=\"T_1540b_row1_col8\" class=\"data row1 col8\" >nan</td>\n",
       "      <td id=\"T_1540b_row1_col9\" class=\"data row1 col9\" >nan</td>\n",
       "      <td id=\"T_1540b_row1_col10\" class=\"data row1 col10\" >nan</td>\n",
       "      <td id=\"T_1540b_row1_col11\" class=\"data row1 col11\" >None</td>\n",
       "      <td id=\"T_1540b_row1_col12\" class=\"data row1 col12\" >nan</td>\n",
       "      <td id=\"T_1540b_row1_col13\" class=\"data row1 col13\" >None</td>\n",
       "      <td id=\"T_1540b_row1_col14\" class=\"data row1 col14\" >./output/proteins/1.pdb</td>\n",
       "      <td id=\"T_1540b_row1_col15\" class=\"data row1 col15\" >./output/ligands/1.sdf</td>\n",
       "      <td id=\"T_1540b_row1_col16\" class=\"data row1 col16\" >[NH3+]C(CCC(=O)NC(CSCc1ccccc1)C(=O)NC(C(=O)[O-])c1ccccc1)C(=O)[O-]</td>\n",
       "      <td id=\"T_1540b_row1_col17\" class=\"data row1 col17\" >1</td>\n",
       "      <td id=\"T_1540b_row1_col18\" class=\"data row1 col18\" >ZPSKWMFLCHMEOY-UHFFFAOYSA-M</td>\n",
       "      <td id=\"T_1540b_row1_col19\" class=\"data row1 col19\" >472.543000</td>\n",
       "      <td id=\"T_1540b_row1_col20\" class=\"data row1 col20\" >33</td>\n",
       "      <td id=\"T_1540b_row1_col21\" class=\"data row1 col21\" >0.307698</td>\n",
       "      <td id=\"T_1540b_row1_col22\" class=\"data row1 col22\" >3</td>\n",
       "      <td id=\"T_1540b_row1_col23\" class=\"data row1 col23\" >7</td>\n",
       "      <td id=\"T_1540b_row1_col24\" class=\"data row1 col24\" >13</td>\n",
       "      <td id=\"T_1540b_row1_col25\" class=\"data row1 col25\" >166.100000</td>\n",
       "      <td id=\"T_1540b_row1_col26\" class=\"data row1 col26\" >-1.847400</td>\n",
       "      <td id=\"T_1540b_row1_col27\" class=\"data row1 col27\" >0.193235</td>\n",
       "      <td id=\"T_1540b_row1_col28\" class=\"data row1 col28\" >0.000409</td>\n",
       "      <td id=\"T_1540b_row1_col29\" class=\"data row1 col29\" >nan</td>\n",
       "      <td id=\"T_1540b_row1_col30\" class=\"data row1 col30\" >nan</td>\n",
       "      <td id=\"T_1540b_row1_col31\" class=\"data row1 col31\" >nan</td>\n",
       "      <td id=\"T_1540b_row1_col32\" class=\"data row1 col32\" >nan</td>\n",
       "      <td id=\"T_1540b_row1_col33\" class=\"data row1 col33\" >nan</td>\n",
       "      <td id=\"T_1540b_row1_col34\" class=\"data row1 col34\" >nan</td>\n",
       "      <td id=\"T_1540b_row1_col35\" class=\"data row1 col35\" >nan</td>\n",
       "      <td id=\"T_1540b_row1_col36\" class=\"data row1 col36\" >nan</td>\n",
       "      <td id=\"T_1540b_row1_col37\" class=\"data row1 col37\" >None</td>\n",
       "      <td id=\"T_1540b_row1_col38\" class=\"data row1 col38\" >None</td>\n",
       "      <td id=\"T_1540b_row1_col39\" class=\"data row1 col39\" >0.193235</td>\n",
       "      <td id=\"T_1540b_row1_col40\" class=\"data row1 col40\" >0.000409</td>\n",
       "      <td id=\"T_1540b_row1_col41\" class=\"data row1 col41\" >23</td>\n",
       "    </tr>\n",
       "    <tr>\n",
       "      <th id=\"T_1540b_level0_row2\" class=\"row_heading level0 row2\" >2</th>\n",
       "      <td id=\"T_1540b_row2_col0\" class=\"data row2 col0\" >../data/raw/BindingNetv2/high/target_CHEMBL3902/CHEMBL301229/protein.pdb</td>\n",
       "      <td id=\"T_1540b_row2_col1\" class=\"data row2 col1\" >../data/raw/BindingNetv2/high/target_CHEMBL3902/CHEMBL301229/ligand.sdf</td>\n",
       "      <td id=\"T_1540b_row2_col2\" class=\"data row2 col2\" >Cc1ccc(CSCC(NC(=O)CCC(N)C(=O)O)C(=O)NCCC(=O)O)cc1</td>\n",
       "      <td id=\"T_1540b_row2_col3\" class=\"data row2 col3\" >4.397940</td>\n",
       "      <td id=\"T_1540b_row2_col4\" class=\"data row2 col4\" >BindingNetv2</td>\n",
       "      <td id=\"T_1540b_row2_col5\" class=\"data row2 col5\" >False</td>\n",
       "      <td id=\"T_1540b_row2_col6\" class=\"data row2 col6\" >nan</td>\n",
       "      <td id=\"T_1540b_row2_col7\" class=\"data row2 col7\" >nan</td>\n",
       "      <td id=\"T_1540b_row2_col8\" class=\"data row2 col8\" >nan</td>\n",
       "      <td id=\"T_1540b_row2_col9\" class=\"data row2 col9\" >nan</td>\n",
       "      <td id=\"T_1540b_row2_col10\" class=\"data row2 col10\" >nan</td>\n",
       "      <td id=\"T_1540b_row2_col11\" class=\"data row2 col11\" >None</td>\n",
       "      <td id=\"T_1540b_row2_col12\" class=\"data row2 col12\" >nan</td>\n",
       "      <td id=\"T_1540b_row2_col13\" class=\"data row2 col13\" >None</td>\n",
       "      <td id=\"T_1540b_row2_col14\" class=\"data row2 col14\" >./output/proteins/2.pdb</td>\n",
       "      <td id=\"T_1540b_row2_col15\" class=\"data row2 col15\" >./output/ligands/2.sdf</td>\n",
       "      <td id=\"T_1540b_row2_col16\" class=\"data row2 col16\" >Cc1ccc(CSCC(NC(=O)CCC([NH3+])C(=O)[O-])C(=O)NCCC(=O)[O-])cc1</td>\n",
       "      <td id=\"T_1540b_row2_col17\" class=\"data row2 col17\" >2</td>\n",
       "      <td id=\"T_1540b_row2_col18\" class=\"data row2 col18\" >MBXWAPNNAOGFPH-UHFFFAOYSA-M</td>\n",
       "      <td id=\"T_1540b_row2_col19\" class=\"data row2 col19\" >424.499000</td>\n",
       "      <td id=\"T_1540b_row2_col20\" class=\"data row2 col20\" >29</td>\n",
       "      <td id=\"T_1540b_row2_col21\" class=\"data row2 col21\" >0.305487</td>\n",
       "      <td id=\"T_1540b_row2_col22\" class=\"data row2 col22\" >3</td>\n",
       "      <td id=\"T_1540b_row2_col23\" class=\"data row2 col23\" >7</td>\n",
       "      <td id=\"T_1540b_row2_col24\" class=\"data row2 col24\" >13</td>\n",
       "      <td id=\"T_1540b_row2_col25\" class=\"data row2 col25\" >166.100000</td>\n",
       "      <td id=\"T_1540b_row2_col26\" class=\"data row2 col26\" >-2.890180</td>\n",
       "      <td id=\"T_1540b_row2_col27\" class=\"data row2 col27\" >0.151653</td>\n",
       "      <td id=\"T_1540b_row2_col28\" class=\"data row2 col28\" >0.000357</td>\n",
       "      <td id=\"T_1540b_row2_col29\" class=\"data row2 col29\" >nan</td>\n",
       "      <td id=\"T_1540b_row2_col30\" class=\"data row2 col30\" >nan</td>\n",
       "      <td id=\"T_1540b_row2_col31\" class=\"data row2 col31\" >nan</td>\n",
       "      <td id=\"T_1540b_row2_col32\" class=\"data row2 col32\" >nan</td>\n",
       "      <td id=\"T_1540b_row2_col33\" class=\"data row2 col33\" >nan</td>\n",
       "      <td id=\"T_1540b_row2_col34\" class=\"data row2 col34\" >nan</td>\n",
       "      <td id=\"T_1540b_row2_col35\" class=\"data row2 col35\" >nan</td>\n",
       "      <td id=\"T_1540b_row2_col36\" class=\"data row2 col36\" >nan</td>\n",
       "      <td id=\"T_1540b_row2_col37\" class=\"data row2 col37\" >None</td>\n",
       "      <td id=\"T_1540b_row2_col38\" class=\"data row2 col38\" >None</td>\n",
       "      <td id=\"T_1540b_row2_col39\" class=\"data row2 col39\" >0.151653</td>\n",
       "      <td id=\"T_1540b_row2_col40\" class=\"data row2 col40\" >0.000357</td>\n",
       "      <td id=\"T_1540b_row2_col41\" class=\"data row2 col41\" >19</td>\n",
       "    </tr>\n",
       "    <tr>\n",
       "      <th id=\"T_1540b_level0_row3\" class=\"row_heading level0 row3\" >3</th>\n",
       "      <td id=\"T_1540b_row3_col0\" class=\"data row3 col0\" >../data/raw/BindingNetv2/high/target_CHEMBL3902/CHEMBL442360/protein.pdb</td>\n",
       "      <td id=\"T_1540b_row3_col1\" class=\"data row3 col1\" >../data/raw/BindingNetv2/high/target_CHEMBL3902/CHEMBL442360/ligand.sdf</td>\n",
       "      <td id=\"T_1540b_row3_col2\" class=\"data row3 col2\" >NC(CCC(=O)NC(CSCc1ccc(Cl)cc1)C(=O)NC(C(=O)O)c1ccccc1)C(=O)O</td>\n",
       "      <td id=\"T_1540b_row3_col3\" class=\"data row3 col3\" >6.920819</td>\n",
       "      <td id=\"T_1540b_row3_col4\" class=\"data row3 col4\" >BindingNetv2</td>\n",
       "      <td id=\"T_1540b_row3_col5\" class=\"data row3 col5\" >False</td>\n",
       "      <td id=\"T_1540b_row3_col6\" class=\"data row3 col6\" >nan</td>\n",
       "      <td id=\"T_1540b_row3_col7\" class=\"data row3 col7\" >nan</td>\n",
       "      <td id=\"T_1540b_row3_col8\" class=\"data row3 col8\" >nan</td>\n",
       "      <td id=\"T_1540b_row3_col9\" class=\"data row3 col9\" >nan</td>\n",
       "      <td id=\"T_1540b_row3_col10\" class=\"data row3 col10\" >nan</td>\n",
       "      <td id=\"T_1540b_row3_col11\" class=\"data row3 col11\" >None</td>\n",
       "      <td id=\"T_1540b_row3_col12\" class=\"data row3 col12\" >nan</td>\n",
       "      <td id=\"T_1540b_row3_col13\" class=\"data row3 col13\" >None</td>\n",
       "      <td id=\"T_1540b_row3_col14\" class=\"data row3 col14\" >./output/proteins/3.pdb</td>\n",
       "      <td id=\"T_1540b_row3_col15\" class=\"data row3 col15\" >./output/ligands/3.sdf</td>\n",
       "      <td id=\"T_1540b_row3_col16\" class=\"data row3 col16\" >[NH3+]C(CCC(=O)NC(CSCc1ccc(Cl)cc1)C(=O)NC(C(=O)[O-])c1ccccc1)C(=O)[O-]</td>\n",
       "      <td id=\"T_1540b_row3_col17\" class=\"data row3 col17\" >3</td>\n",
       "      <td id=\"T_1540b_row3_col18\" class=\"data row3 col18\" >BXJSPWKYSSRFEB-UHFFFAOYSA-M</td>\n",
       "      <td id=\"T_1540b_row3_col19\" class=\"data row3 col19\" >506.988000</td>\n",
       "      <td id=\"T_1540b_row3_col20\" class=\"data row3 col20\" >34</td>\n",
       "      <td id=\"T_1540b_row3_col21\" class=\"data row3 col21\" >0.306713</td>\n",
       "      <td id=\"T_1540b_row3_col22\" class=\"data row3 col22\" >3</td>\n",
       "      <td id=\"T_1540b_row3_col23\" class=\"data row3 col23\" >7</td>\n",
       "      <td id=\"T_1540b_row3_col24\" class=\"data row3 col24\" >13</td>\n",
       "      <td id=\"T_1540b_row3_col25\" class=\"data row3 col25\" >166.100000</td>\n",
       "      <td id=\"T_1540b_row3_col26\" class=\"data row3 col26\" >-1.194000</td>\n",
       "      <td id=\"T_1540b_row3_col27\" class=\"data row3 col27\" >0.203553</td>\n",
       "      <td id=\"T_1540b_row3_col28\" class=\"data row3 col28\" >0.000401</td>\n",
       "      <td id=\"T_1540b_row3_col29\" class=\"data row3 col29\" >nan</td>\n",
       "      <td id=\"T_1540b_row3_col30\" class=\"data row3 col30\" >nan</td>\n",
       "      <td id=\"T_1540b_row3_col31\" class=\"data row3 col31\" >nan</td>\n",
       "      <td id=\"T_1540b_row3_col32\" class=\"data row3 col32\" >nan</td>\n",
       "      <td id=\"T_1540b_row3_col33\" class=\"data row3 col33\" >nan</td>\n",
       "      <td id=\"T_1540b_row3_col34\" class=\"data row3 col34\" >nan</td>\n",
       "      <td id=\"T_1540b_row3_col35\" class=\"data row3 col35\" >nan</td>\n",
       "      <td id=\"T_1540b_row3_col36\" class=\"data row3 col36\" >nan</td>\n",
       "      <td id=\"T_1540b_row3_col37\" class=\"data row3 col37\" >None</td>\n",
       "      <td id=\"T_1540b_row3_col38\" class=\"data row3 col38\" >None</td>\n",
       "      <td id=\"T_1540b_row3_col39\" class=\"data row3 col39\" >0.203553</td>\n",
       "      <td id=\"T_1540b_row3_col40\" class=\"data row3 col40\" >0.000401</td>\n",
       "      <td id=\"T_1540b_row3_col41\" class=\"data row3 col41\" >24</td>\n",
       "    </tr>\n",
       "    <tr>\n",
       "      <th id=\"T_1540b_level0_row4\" class=\"row_heading level0 row4\" >4</th>\n",
       "      <td id=\"T_1540b_row4_col0\" class=\"data row4 col0\" >../data/raw/BindingNetv2/high/target_CHEMBL3902/CHEMBL58451/protein.pdb</td>\n",
       "      <td id=\"T_1540b_row4_col1\" class=\"data row4 col1\" >../data/raw/BindingNetv2/high/target_CHEMBL3902/CHEMBL58451/ligand.sdf</td>\n",
       "      <td id=\"T_1540b_row4_col2\" class=\"data row4 col2\" >NC(CCC(=O)NC(CSCc1ccccc1)C(=O)NCCC(=O)O)C(=O)O</td>\n",
       "      <td id=\"T_1540b_row4_col3\" class=\"data row4 col3\" >3.148742</td>\n",
       "      <td id=\"T_1540b_row4_col4\" class=\"data row4 col4\" >BindingNetv2</td>\n",
       "      <td id=\"T_1540b_row4_col5\" class=\"data row4 col5\" >False</td>\n",
       "      <td id=\"T_1540b_row4_col6\" class=\"data row4 col6\" >nan</td>\n",
       "      <td id=\"T_1540b_row4_col7\" class=\"data row4 col7\" >nan</td>\n",
       "      <td id=\"T_1540b_row4_col8\" class=\"data row4 col8\" >nan</td>\n",
       "      <td id=\"T_1540b_row4_col9\" class=\"data row4 col9\" >nan</td>\n",
       "      <td id=\"T_1540b_row4_col10\" class=\"data row4 col10\" >nan</td>\n",
       "      <td id=\"T_1540b_row4_col11\" class=\"data row4 col11\" >None</td>\n",
       "      <td id=\"T_1540b_row4_col12\" class=\"data row4 col12\" >nan</td>\n",
       "      <td id=\"T_1540b_row4_col13\" class=\"data row4 col13\" >None</td>\n",
       "      <td id=\"T_1540b_row4_col14\" class=\"data row4 col14\" >./output/proteins/4.pdb</td>\n",
       "      <td id=\"T_1540b_row4_col15\" class=\"data row4 col15\" >./output/ligands/4.sdf</td>\n",
       "      <td id=\"T_1540b_row4_col16\" class=\"data row4 col16\" >[NH3+]C(CCC(=O)NC(CSCc1ccccc1)C(=O)NCCC(=O)[O-])C(=O)[O-]</td>\n",
       "      <td id=\"T_1540b_row4_col17\" class=\"data row4 col17\" >4</td>\n",
       "      <td id=\"T_1540b_row4_col18\" class=\"data row4 col18\" >QLVGMERIDWMEBM-UHFFFAOYSA-M</td>\n",
       "      <td id=\"T_1540b_row4_col19\" class=\"data row4 col19\" >410.472000</td>\n",
       "      <td id=\"T_1540b_row4_col20\" class=\"data row4 col20\" >28</td>\n",
       "      <td id=\"T_1540b_row4_col21\" class=\"data row4 col21\" >0.307814</td>\n",
       "      <td id=\"T_1540b_row4_col22\" class=\"data row4 col22\" >3</td>\n",
       "      <td id=\"T_1540b_row4_col23\" class=\"data row4 col23\" >7</td>\n",
       "      <td id=\"T_1540b_row4_col24\" class=\"data row4 col24\" >13</td>\n",
       "      <td id=\"T_1540b_row4_col25\" class=\"data row4 col25\" >166.100000</td>\n",
       "      <td id=\"T_1540b_row4_col26\" class=\"data row4 col26\" >-3.198600</td>\n",
       "      <td id=\"T_1540b_row4_col27\" class=\"data row4 col27\" >0.112455</td>\n",
       "      <td id=\"T_1540b_row4_col28\" class=\"data row4 col28\" >0.000274</td>\n",
       "      <td id=\"T_1540b_row4_col29\" class=\"data row4 col29\" >nan</td>\n",
       "      <td id=\"T_1540b_row4_col30\" class=\"data row4 col30\" >nan</td>\n",
       "      <td id=\"T_1540b_row4_col31\" class=\"data row4 col31\" >nan</td>\n",
       "      <td id=\"T_1540b_row4_col32\" class=\"data row4 col32\" >nan</td>\n",
       "      <td id=\"T_1540b_row4_col33\" class=\"data row4 col33\" >nan</td>\n",
       "      <td id=\"T_1540b_row4_col34\" class=\"data row4 col34\" >nan</td>\n",
       "      <td id=\"T_1540b_row4_col35\" class=\"data row4 col35\" >nan</td>\n",
       "      <td id=\"T_1540b_row4_col36\" class=\"data row4 col36\" >nan</td>\n",
       "      <td id=\"T_1540b_row4_col37\" class=\"data row4 col37\" >None</td>\n",
       "      <td id=\"T_1540b_row4_col38\" class=\"data row4 col38\" >None</td>\n",
       "      <td id=\"T_1540b_row4_col39\" class=\"data row4 col39\" >0.112455</td>\n",
       "      <td id=\"T_1540b_row4_col40\" class=\"data row4 col40\" >0.000274</td>\n",
       "      <td id=\"T_1540b_row4_col41\" class=\"data row4 col41\" >18</td>\n",
       "    </tr>\n",
       "  </tbody>\n",
       "</table>\n"
      ],
      "text/plain": [
       "<pandas.io.formats.style.Styler at 0x7fdfa9992500>"
      ]
     },
     "execution_count": 14,
     "metadata": {},
     "output_type": "execute_result"
    }
   ],
   "source": [
    "df.head().style"
   ]
  },
  {
   "cell_type": "markdown",
   "id": "cbafc2a7-4bd8-49d0-84c2-725be52b2714",
   "metadata": {},
   "source": [
    "# TO DO : \n",
    "- speed up the standardization (less complex)\n",
    "- error with some structure, mismatch of aa ? need better standardization, simple and faster"
   ]
  },
  {
   "cell_type": "code",
   "execution_count": null,
   "id": "ee51f312-c355-43ab-a0a1-39371d1a83d4",
   "metadata": {},
   "outputs": [],
   "source": [
    "# 48 hours for 100k to standardized, can do better....and only 15k passed..."
   ]
  },
  {
   "cell_type": "code",
   "execution_count": 15,
   "id": "31aee67e-ad15-498e-aef5-3f6b15d33186",
   "metadata": {},
   "outputs": [
    {
     "data": {
      "text/plain": [
       "1"
      ]
     },
     "execution_count": 15,
     "metadata": {},
     "output_type": "execute_result"
    }
   ],
   "source": [
    "1"
   ]
  },
  {
   "cell_type": "code",
   "execution_count": 12,
   "id": "db5d18a5-4765-42b3-8e6d-f753bb96f8a6",
   "metadata": {},
   "outputs": [
    {
     "data": {
      "text/plain": [
       "1"
      ]
     },
     "execution_count": 12,
     "metadata": {},
     "output_type": "execute_result"
    }
   ],
   "source": [
    "1"
   ]
  },
  {
   "cell_type": "code",
   "execution_count": 13,
   "id": "3fc7c328-40b1-4cc1-8a4b-9cbd02f34d0b",
   "metadata": {
    "tags": []
   },
   "outputs": [
    {
     "data": {
      "text/plain": [
       "1"
      ]
     },
     "execution_count": 13,
     "metadata": {},
     "output_type": "execute_result"
    }
   ],
   "source": [
    "1"
   ]
  },
  {
   "cell_type": "code",
   "execution_count": null,
   "id": "fca795aa-8e39-4697-b7f4-1e3fc129686a",
   "metadata": {},
   "outputs": [],
   "source": []
  },
  {
   "cell_type": "code",
   "execution_count": null,
   "id": "e24b624a-3516-47ad-80d8-187483013e17",
   "metadata": {},
   "outputs": [],
   "source": []
  },
  {
   "cell_type": "code",
   "execution_count": null,
   "id": "cba2246b-415c-4479-a2e6-08c9ea5c595d",
   "metadata": {},
   "outputs": [],
   "source": []
  }
 ],
 "metadata": {
  "environment": {
   "kernel": "bioml",
   "name": "workbench-notebooks.m130",
   "type": "gcloud",
   "uri": "us-docker.pkg.dev/deeplearning-platform-release/gcr.io/workbench-notebooks:m130"
  },
  "kernelspec": {
   "display_name": "BioML (Python 3.10)",
   "language": "python",
   "name": "bioml"
  },
  "language_info": {
   "codemirror_mode": {
    "name": "ipython",
    "version": 3
   },
   "file_extension": ".py",
   "mimetype": "text/x-python",
   "name": "python",
   "nbconvert_exporter": "python",
   "pygments_lexer": "ipython3",
   "version": "3.10.18"
  }
 },
 "nbformat": 4,
 "nbformat_minor": 5
}
